{
 "cells": [
  {
   "cell_type": "code",
   "execution_count": null,
   "id": "542b26b5-c2db-4236-8308-644c2f58f67e",
   "metadata": {},
   "outputs": [],
   "source": [
    "# Pandas \n",
    "# Series           1차원\n",
    "# DataFrame        2차원"
   ]
  },
  {
   "cell_type": "code",
   "execution_count": 3,
   "id": "827228a5-0427-4fbc-b6cf-fcf75141db3d",
   "metadata": {},
   "outputs": [
    {
     "name": "stdout",
     "output_type": "stream",
     "text": [
      "<class 'pandas.core.series.Series'>\n",
      "RangeIndex(start=0, stop=9, step=1)\n",
      "int64\n",
      "0    1\n",
      "1    2\n",
      "2    3\n",
      "3    4\n",
      "4    5\n",
      "5    6\n",
      "6    7\n",
      "7    8\n",
      "8    9\n",
      "dtype: int64\n",
      "A    1\n",
      "B    2\n",
      "C    3\n",
      "D    4\n",
      "E    5\n",
      "F    6\n",
      "G    7\n",
      "H    8\n",
      "I    9\n",
      "dtype: int64\n"
     ]
    }
   ],
   "source": [
    "import pandas as pd\n",
    "import numpy as np\n",
    "# Series\n",
    "s = pd.Series([ 1, 2, 3, 4, 5, 6, 7, 8, 9 ])\n",
    "print(type(s))\n",
    "print(s.index) \n",
    "print(s.dtype)\n",
    "print(s)\n",
    "\n",
    "s.index = [ 'A', 'B', 'C', 'D', 'E', 'F', 'G', 'H', 'I' ] # 인덱스 지정\n",
    "print(s)"
   ]
  },
  {
   "cell_type": "code",
   "execution_count": 20,
   "id": "4cb877dd-ec11-4571-8626-5e5c996ef332",
   "metadata": {},
   "outputs": [
    {
     "name": "stdout",
     "output_type": "stream",
     "text": [
      "A    1\n",
      "B    2\n",
      "C    3\n",
      "D    4\n",
      "E    5\n",
      "F    6\n",
      "G    7\n",
      "H    8\n",
      "I    9\n",
      "dtype: int64\n",
      "Index(['A', 'B', 'C', 'D', 'E', 'F', 'G', 'H', 'I'], dtype='object')\n",
      "[1 2 3 4 5 6 7 8 9]\n",
      "1\n",
      "1\n",
      "1\n",
      "A    1\n",
      "B    2\n",
      "C    3\n",
      "D    4\n",
      "E    5\n",
      "dtype: int64\n"
     ]
    },
    {
     "name": "stderr",
     "output_type": "stream",
     "text": [
      "C:\\Users\\82107\\AppData\\Local\\Temp\\ipykernel_12152\\1843622313.py:5: FutureWarning: Series.__getitem__ treating keys as positions is deprecated. In a future version, integer keys will always be treated as labels (consistent with DataFrame behavior). To access a value by position, use `ser.iloc[pos]`\n",
      "  print(s[0])\n"
     ]
    }
   ],
   "source": [
    "s = pd.Series ([ 1, 2, 3, 4, 5, 6, 7, 8, 9 ], index = [ 'A', 'B', 'C', 'D', 'E', 'F', 'G', 'H', 'I' ])\n",
    "print(s)\n",
    "print(s.index)\n",
    "print(s.values)\n",
    "print(s[0])\n",
    "print(s['A'])\n",
    "print(s.A)\n",
    "print(s[0:5])"
   ]
  },
  {
   "cell_type": "code",
   "execution_count": 21,
   "id": "5451d4b1-3f80-46f2-a1d3-4826bbd841f1",
   "metadata": {},
   "outputs": [
    {
     "name": "stdout",
     "output_type": "stream",
     "text": [
      "<class 'dict'>\n",
      "A : 10\n",
      "D : 20\n",
      "F : 30\n",
      "H : 40\n",
      "10\n",
      "Index(['A', 'D', 'F', 'H'], dtype='object')\n",
      "[10 20 30 40]\n",
      "10\n",
      "10\n",
      "A    10\n",
      "D    20\n",
      "F    30\n",
      "dtype: int64\n"
     ]
    }
   ],
   "source": [
    "# Dictionary (Map, JSON) -> Series\n",
    "d = {'A':10, 'D':20, 'F':30, 'H':40}\n",
    "print(type(d))\n",
    "for key, value in d.items():\n",
    "    print(key, \":\", value)\n",
    "\n",
    "print(d['A'])\n",
    "# print(d.A) # 에러\n",
    "# print(d.[0:3])  # 에러 딕셔너리는 슬라이싱 자체가 안됨\n",
    "\n",
    "\n",
    "s = pd.Series(d)\n",
    "print(s.index)\n",
    "print(s.values)\n",
    "print(s['A'])\n",
    "print(s.A)\n",
    "print(s[0:3])"
   ]
  },
  {
   "cell_type": "code",
   "execution_count": 27,
   "id": "2eb9eee5-c8dc-4ce7-9f6e-571238fde284",
   "metadata": {},
   "outputs": [
    {
     "name": "stdout",
     "output_type": "stream",
     "text": [
      "<class 'dict'>\n"
     ]
    },
    {
     "ename": "AttributeError",
     "evalue": "module 'pandas' has no attribute 'DateFrame'",
     "output_type": "error",
     "traceback": [
      "\u001b[1;31m---------------------------------------------------------------------------\u001b[0m",
      "\u001b[1;31mAttributeError\u001b[0m                            Traceback (most recent call last)",
      "Cell \u001b[1;32mIn[27], line 11\u001b[0m\n\u001b[0;32m      3\u001b[0m d \u001b[38;5;241m=\u001b[39m {\n\u001b[0;32m      4\u001b[0m     \u001b[38;5;124m'\u001b[39m\u001b[38;5;124mname\u001b[39m\u001b[38;5;124m'\u001b[39m : [\u001b[38;5;124m'\u001b[39m\u001b[38;5;124mkim\u001b[39m\u001b[38;5;124m'\u001b[39m, \u001b[38;5;124m'\u001b[39m\u001b[38;5;124mlee\u001b[39m\u001b[38;5;124m'\u001b[39m, \u001b[38;5;124m'\u001b[39m\u001b[38;5;124mpark\u001b[39m\u001b[38;5;124m'\u001b[39m, \u001b[38;5;124m'\u001b[39m\u001b[38;5;124mjung\u001b[39m\u001b[38;5;124m'\u001b[39m],\n\u001b[0;32m      5\u001b[0m     \u001b[38;5;124m'\u001b[39m\u001b[38;5;124mage\u001b[39m\u001b[38;5;124m'\u001b[39m : [\u001b[38;5;241m25\u001b[39m, \u001b[38;5;241m30\u001b[39m, \u001b[38;5;241m35\u001b[39m, \u001b[38;5;241m20\u001b[39m],\n\u001b[0;32m      6\u001b[0m     \u001b[38;5;124m'\u001b[39m\u001b[38;5;124mtel\u001b[39m\u001b[38;5;124m'\u001b[39m : [\u001b[38;5;124m'\u001b[39m\u001b[38;5;124m1111-2222\u001b[39m\u001b[38;5;124m'\u001b[39m, \u001b[38;5;124m'\u001b[39m\u001b[38;5;124m2222-1111\u001b[39m\u001b[38;5;124m'\u001b[39m, \u001b[38;5;124m'\u001b[39m\u001b[38;5;124m3333-1111\u001b[39m\u001b[38;5;124m'\u001b[39m, \u001b[38;5;124m'\u001b[39m\u001b[38;5;124m2222-3333\u001b[39m\u001b[38;5;124m'\u001b[39m]\n\u001b[0;32m      7\u001b[0m }\n\u001b[0;32m      9\u001b[0m \u001b[38;5;28mprint\u001b[39m(\u001b[38;5;28mtype\u001b[39m(d))\n\u001b[1;32m---> 11\u001b[0m df \u001b[38;5;241m=\u001b[39m pd\u001b[38;5;241m.\u001b[39mDateFrame(d)\n\u001b[0;32m     12\u001b[0m \u001b[38;5;28mprint\u001b[39m(df)\n\u001b[0;32m     13\u001b[0m \u001b[38;5;28mprint\u001b[39m(df\u001b[38;5;241m.\u001b[39mcolumns)\n",
      "\u001b[1;31mAttributeError\u001b[0m: module 'pandas' has no attribute 'DateFrame'"
     ]
    }
   ],
   "source": [
    "# DataFrame\n",
    "# Dictionary -> DataFrame\n",
    "d = {\n",
    "    'name' : ['kim', 'lee', 'park', 'jung'],\n",
    "    'age' : [25, 30, 35, 20],\n",
    "    'tel' : ['1111-2222', '2222-1111', '3333-1111', '2222-3333']\n",
    "}\n",
    "\n",
    "print(type(d))\n",
    "\n",
    "df = pd.DateFrame(d)\n",
    "print(df)\n",
    "print(df.index)\n",
    "print(df.columns)\n",
    "print(df.values)\n",
    "\n",
    "df.index.name = 'Num' # 인덱스 이름 지정 가능\n",
    "df.columns.name = 'User'\n"
   ]
  },
  {
   "cell_type": "code",
   "execution_count": 35,
   "id": "4421eac9-b5f2-4834-af07-c366ef22a114",
   "metadata": {},
   "outputs": [
    {
     "name": "stdout",
     "output_type": "stream",
     "text": [
      "<class 'numpy.ndarray'>\n",
      "   name age        tel\n",
      "A   kim  20  1111-2222\n",
      "B   lee  30  2222-1111\n",
      "C  park  35  3333-2222\n",
      "D  jung  23  3333-1111\n",
      "Index(['A', 'B', 'C', 'D'], dtype='object')\n",
      "Index(['name', 'age', 'tel'], dtype='object')\n",
      "   name age        tel\n",
      "A   kim  20  1111-2222\n",
      "B   lee  30  2222-1111\n",
      "C  park  35  3333-2222\n",
      "D  jung  23  3333-1111\n",
      "       name age        tel\n",
      "count     4   4          4\n",
      "unique    4   4          4\n",
      "top     kim  20  1111-2222\n",
      "freq      1   1          1\n"
     ]
    }
   ],
   "source": [
    "n = np.array(\n",
    "    [['kim', 20, '1111-2222'],\n",
    "     ['lee', 30, '2222-1111'],\n",
    "     ['park', 35, '3333-2222'],\n",
    "     ['jung', 23, '3333-1111']]\n",
    "\n",
    ")\n",
    "print(type(n))\n",
    "df = pd.DataFrame(n)\n",
    "\n",
    "df.columns = ['name', 'age', 'tel']\n",
    "df.index = [ 'A', 'B', 'C', 'D' ]\n",
    "\n",
    "print(df)\n",
    "print(df.index)\n",
    "print(df.columns)\n",
    "\n",
    "df = pd.DataFrame(n, columns=[ 'name', 'age', 'tel'], index=[ 'A', 'B', 'C', 'D' ])\n",
    "print(df)\n",
    "\n",
    "print(df.describe())                                                              "
   ]
  },
  {
   "cell_type": "code",
   "execution_count": 44,
   "id": "09d60ae0-32a1-4c55-b5b1-04970e2f38bc",
   "metadata": {},
   "outputs": [
    {
     "name": "stdout",
     "output_type": "stream",
     "text": [
      "A     kim\n",
      "B     lee\n",
      "C    park\n",
      "D    jung\n",
      "Name: name, dtype: object\n",
      "   name        tel\n",
      "A   kim  1111-2222\n",
      "B   lee  2222-1111\n",
      "C  park  3333-2222\n",
      "D  jung  3333-1111\n",
      "park\n",
      "park\n",
      "park\n",
      "B     lee\n",
      "C    park\n",
      "D    jung\n",
      "Name: name, dtype: object\n",
      "A     kim\n",
      "B     lee\n",
      "C    park\n",
      "D    jung\n",
      "Name: name, dtype: object A    20\n",
      "B    30\n",
      "C    35\n",
      "D    23\n",
      "Name: age, dtype: object\n",
      "park\n"
     ]
    },
    {
     "name": "stderr",
     "output_type": "stream",
     "text": [
      "C:\\Users\\82107\\AppData\\Local\\Temp\\ipykernel_12152\\239514055.py:3: FutureWarning: Series.__getitem__ treating keys as positions is deprecated. In a future version, integer keys will always be treated as labels (consistent with DataFrame behavior). To access a value by position, use `ser.iloc[pos]`\n",
      "  print(df['name'][2])\n"
     ]
    }
   ],
   "source": [
    "print(df['name']) #name 열을 꺼냄\n",
    "print(df[['name', 'tel']])\n",
    "print(df['name'][2])\n",
    "print(df['name']['C'])\n",
    "print(df['name'].C)\n",
    "print(df['name']['B':'D'])\n",
    "\n",
    "print(df.name, df.age) # 2차원 형식이 아닌 따로따로 찍는것\n",
    "print(df.name.C) "
   ]
  },
  {
   "cell_type": "code",
   "execution_count": 52,
   "id": "ae9a581e-97dd-4fb9-8ac6-11e1e8c682ce",
   "metadata": {},
   "outputs": [
    {
     "name": "stdout",
     "output_type": "stream",
     "text": [
      "   name age        tel address\n",
      "A   kim  20  1111-2222      서울\n",
      "B   lee  30  2222-1111      수원\n",
      "C  park  35  3333-2222      인천\n",
      "D  jung  23  3333-1111      안산\n",
      "  name age        tel address\n",
      "A  kim  20  1111-2222      서울\n",
      "   name        tel\n",
      "A   kim  1111-2222\n",
      "B   lee  2222-1111\n",
      "C  park  3333-2222\n",
      "D  jung  3333-1111\n"
     ]
    }
   ],
   "source": [
    "print(df[:][:])\n",
    "print(df[:2][:1]) #행 / 열\n",
    "print(df[['name', 'tel']])\n",
    "# print(df[[0, 2]]) # 에러 컬렴명이 있는 경우 숫자 안됨\n",
    "# print(df[[0][0]) # 에러"
   ]
  },
  {
   "cell_type": "code",
   "execution_count": 51,
   "id": "d23d6ff5-7a83-4cfe-b022-870e34d8286b",
   "metadata": {},
   "outputs": [
    {
     "name": "stdout",
     "output_type": "stream",
     "text": [
      "   name age        tel address\n",
      "A   kim  20  1111-2222      서울\n",
      "B   lee  30  2222-1111      수원\n",
      "C  park  35  3333-2222      인천\n",
      "D  jung  23  3333-1111      안산\n"
     ]
    }
   ],
   "source": [
    "print(df)"
   ]
  },
  {
   "cell_type": "code",
   "execution_count": 57,
   "id": "dba1d9d1-a555-42fc-95a9-ae7baa0333da",
   "metadata": {},
   "outputs": [
    {
     "name": "stdout",
     "output_type": "stream",
     "text": [
      "   name age        tel address  adult\n",
      "A   kim  40  1111-2222      서울   True\n",
      "B   lee  30  2222-1111      수원  False\n",
      "C  park  35  3333-2222      인천   True\n",
      "D  jung  23  3333-1111      안산  False\n"
     ]
    }
   ],
   "source": [
    "df ['address'] = ['서울', '수원', '인천', '안산'] # 데이터 갯수는 맞춰야한다\n",
    "df ['adult'] = df['age'].astype(np.int64) > 30 # 나이 한줄을 꺼냄 age부터는 논리값, 30만 쓰면 자료형이 다른거랑 계산해서 ''추가\n",
    "# 이후 astype(np.int64) 자료형 변경\n",
    "print(df)"
   ]
  },
  {
   "cell_type": "code",
   "execution_count": 61,
   "id": "4e950959-a072-488a-a37c-a433052cd179",
   "metadata": {},
   "outputs": [
    {
     "name": "stdout",
     "output_type": "stream",
     "text": [
      "a    10\n",
      "d    20\n",
      "b    40\n",
      "c    50\n",
      "f    60\n",
      "e    70\n",
      "dtype: int64\n"
     ]
    }
   ],
   "source": [
    "# Series 정렬\n",
    "s = pd.Series( [10, 40, 50, 20, 70, 60], index=['a', 'b', 'c', 'd', 'e', 'f'])\n",
    "s = s.sort_index()\n",
    "s = s.sort_values()\n",
    "print(s)\n",
    "        "
   ]
  },
  {
   "cell_type": "code",
   "execution_count": 76,
   "id": "9507c6f9-332b-43e3-8754-7fcbb058423d",
   "metadata": {},
   "outputs": [
    {
     "name": "stdout",
     "output_type": "stream",
     "text": [
      "     d    c    a    b\n",
      "B    4    5    1    2\n",
      "T   21   26   10   40\n",
      "P  300  400  500  600\n",
      "     d    c    b    a\n",
      "B    4    5    2    1\n",
      "T   21   26   40   10\n",
      "P  300  400  600  500\n"
     ]
    }
   ],
   "source": [
    "# DataFrame 정렬\n",
    "df = pd.DataFrame([[4, 5, 1, 2],\n",
    "                  [21, 26, 10, 40],\n",
    "                   [ 300, 400, 500, 600]], index=['B', 'T', 'P'], columns=['d', 'c', 'a', 'b'])\n",
    "print(df)\n",
    "df = df.sort_index() # index\n",
    "df = df.sort_index(axis=0) # 위랑 같음 행끼리 0 정렬이나 값 안 주는거랑\n",
    "df = df.sort_index(axis=1, ascending=False) # cloumn\n",
    "\n",
    "df = df.sort_values( by='a', ascending=False) # 행끼리\n",
    "df = df.sort_values( by='b', axis=1) #열끼리\n",
    "print( df )"
   ]
  },
  {
   "cell_type": "code",
   "execution_count": 6,
   "id": "0bd24dd2-63ae-4de8-857e-a2c5168d37df",
   "metadata": {},
   "outputs": [
    {
     "name": "stdout",
     "output_type": "stream",
     "text": [
      "[[1, 2, 3], [4, 5, 6], [7, 8, 9]]\n",
      "9\n",
      "[[1, 2, 3], [4, 5, 6], [7, 8, 9]]\n",
      "[[1, 2, 3], [4, 5, 6]]\n"
     ]
    },
    {
     "ename": "NameError",
     "evalue": "name 'np' is not defined",
     "output_type": "error",
     "traceback": [
      "\u001b[1;31m---------------------------------------------------------------------------\u001b[0m",
      "\u001b[1;31mNameError\u001b[0m                                 Traceback (most recent call last)",
      "Cell \u001b[1;32mIn[6], line 15\u001b[0m\n\u001b[0;32m     11\u001b[0m \u001b[38;5;28mprint\u001b[39m(m[:\u001b[38;5;241m2\u001b[39m][:\u001b[38;5;241m2\u001b[39m])\n\u001b[0;32m     12\u001b[0m \u001b[38;5;66;03m# print(m[:2, :2]) 에러 (리스트는 이렇게 꺼내는게 안됨)\u001b[39;00m\n\u001b[0;32m     13\u001b[0m \n\u001b[0;32m     14\u001b[0m \u001b[38;5;66;03m# Numpy\u001b[39;00m\n\u001b[1;32m---> 15\u001b[0m n \u001b[38;5;241m=\u001b[39m np\u001b[38;5;241m.\u001b[39marray(m)\n\u001b[0;32m     16\u001b[0m \u001b[38;5;28mprint\u001b[39m(n)\n\u001b[0;32m     17\u001b[0m \u001b[38;5;28mprint\u001b[39m(n[\u001b[38;5;241m2\u001b[39m][\u001b[38;5;241m2\u001b[39m])\n",
      "\u001b[1;31mNameError\u001b[0m: name 'np' is not defined"
     ]
    }
   ],
   "source": [
    "# 슬라이싱\n",
    "# .iloc        정수 인덱스 / i 숫자 loc 위치\n",
    "# .loc         라벨 인덱스\n",
    "# .ix          deprecated (옛날 방식이라 쓰지 않음)\n",
    "\n",
    "# list (2차원 만들기)\n",
    "m = [ [1, 2, 3], [4, 5, 6], [7, 8, 9] ]\n",
    "print(m)\n",
    "print(m[2][2])\n",
    "print(m[:][:])\n",
    "print(m[:2][:2])\n",
    "# print(m[:2, :2]) 에러 (리스트는 이렇게 꺼내는게 안됨)\n",
    "\n",
    "# Numpy\n",
    "n = np.array(m)\n",
    "print(n)\n",
    "print(n[2][2])\n",
    "print(n[:][:])\n",
    "print(n[:2][:2])\n",
    "print(n[:2, :2]) \n",
    "\n",
    "# Pandas\n",
    "df = pd.DataFrame(n)\n",
    "print(df)\n",
    "print(df[2][2])\n",
    "print(df[:][:]) # 슬라이싱하면 행렬 개념은 아님\n",
    "print(df[:2][:2])"
   ]
  },
  {
   "cell_type": "code",
   "execution_count": 9,
   "id": "a1000fdb-058b-448d-9b53-94cd7bde1b85",
   "metadata": {},
   "outputs": [
    {
     "ename": "NameError",
     "evalue": "name 'pd' is not defined",
     "output_type": "error",
     "traceback": [
      "\u001b[1;31m---------------------------------------------------------------------------\u001b[0m",
      "\u001b[1;31mNameError\u001b[0m                                 Traceback (most recent call last)",
      "Cell \u001b[1;32mIn[9], line 3\u001b[0m\n\u001b[0;32m      1\u001b[0m \u001b[38;5;66;03m# iloc\u001b[39;00m\n\u001b[1;32m----> 3\u001b[0m df \u001b[38;5;241m=\u001b[39m pd\u001b[38;5;241m.\u001b[39mDateFrame(np\u001b[38;5;241m.\u001b[39marange(\u001b[38;5;241m1\u001b[39m, \u001b[38;5;241m21\u001b[39m)\u001b[38;5;241m.\u001b[39mreshape(\u001b[38;5;241m5\u001b[39m, \u001b[38;5;241m4\u001b[39m), columns\u001b[38;5;241m=\u001b[39m[\u001b[38;5;124m'\u001b[39m\u001b[38;5;124mA\u001b[39m\u001b[38;5;124m'\u001b[39m, \u001b[38;5;124m'\u001b[39m\u001b[38;5;124mB\u001b[39m\u001b[38;5;124m'\u001b[39m, \u001b[38;5;124m'\u001b[39m\u001b[38;5;124mC\u001b[39m\u001b[38;5;124m'\u001b[39m, \u001b[38;5;124m'\u001b[39m\u001b[38;5;124mD\u001b[39m\u001b[38;5;124m'\u001b[39m])\n\u001b[0;32m      4\u001b[0m \u001b[38;5;28mprint\u001b[39m(df)\n\u001b[0;32m      6\u001b[0m \u001b[38;5;66;03m# print(df[2][2])        # 에러\u001b[39;00m\n",
      "\u001b[1;31mNameError\u001b[0m: name 'pd' is not defined"
     ]
    }
   ],
   "source": [
    "# iloc\n",
    "\n",
    "df = pd.DateFrame(np.arange(1, 21).reshape(5, 4), columns=['A', 'B', 'C', 'D'])\n",
    "print(df)\n",
    "\n",
    "# print(df[2][2])        # 에러\n",
    "print(df['C'][2])\n",
    "print(df[['A', 'D']])\n",
    "\n",
    "# print(df['A' : 'D'])    # 에러\n",
    "# print(df[['A' : 'C']])  # 에러 (그래서 좀 더 편하라고 만든게 iloc다)\n",
    "\n",
    "print(df.iloc[2][2])\n",
    "print(df.iloc[2, 2])\n",
    "# print(df.iloc[2, 'C'])            # 에러 (숫자밖에 안됨)\n",
    "print(df.iloc[:2, :2])\n",
    "print(df.iloc[:3:2, :3:2])\n",
    "print(df.iloc[:2, ::-1])\n",
    "print(df.iloc[::-1, ::-1])"
   ]
  },
  {
   "cell_type": "code",
   "execution_count": 10,
   "id": "25ff79a2-c43b-4e32-9a64-180fca22a173",
   "metadata": {},
   "outputs": [
    {
     "ename": "NameError",
     "evalue": "name 'df' is not defined",
     "output_type": "error",
     "traceback": [
      "\u001b[1;31m---------------------------------------------------------------------------\u001b[0m",
      "\u001b[1;31mNameError\u001b[0m                                 Traceback (most recent call last)",
      "Cell \u001b[1;32mIn[10], line 2\u001b[0m\n\u001b[0;32m      1\u001b[0m \u001b[38;5;66;03m# loc\u001b[39;00m\n\u001b[1;32m----> 2\u001b[0m \u001b[38;5;28mprint\u001b[39m(df)\n",
      "\u001b[1;31mNameError\u001b[0m: name 'df' is not defined"
     ]
    }
   ],
   "source": [
    "# loc 라벨링\n",
    "print(df)\n",
    "# print(df.loc[2, 2])        # 에러\n",
    "print(df.loc[2, 'C'])\n",
    "# print(df.loc[:2, :2])      # 에러 (열에 라벨이 있을땐 맞춰서 써라)\n",
    "print(df.loc[:2, :'C'])\n",
    "print(df[:2])\n",
    "print(df.loc[1:3, 'B':'C'])\n",
    "print(df.loc[:, 'C']) # 하나만 가져올거면\n",
    "print(df.loc[:, ['B', 'D']]) # 모든 행에서 B, C 가지고 올래, 세밀하게 조절해서 원하는 데이터 추출가능\n",
    "print(df[:, ['B', 'D']]) # 위값이랑 똑같이 이것도 가능인데 위는 행 설정도 가능"
   ]
  },
  {
   "cell_type": "code",
   "execution_count": 16,
   "id": "0b152dce-1f85-4a08-9e79-f4ee711e6579",
   "metadata": {},
   "outputs": [
    {
     "ename": "NameError",
     "evalue": "name 'pd' is not defined",
     "output_type": "error",
     "traceback": [
      "\u001b[1;31m---------------------------------------------------------------------------\u001b[0m",
      "\u001b[1;31mNameError\u001b[0m                                 Traceback (most recent call last)",
      "Cell \u001b[1;32mIn[16], line 1\u001b[0m\n\u001b[1;32m----> 1\u001b[0m df \u001b[38;5;241m=\u001b[39m pd\u001b[38;5;241m.\u001b[39mDateFrame(np\u001b[38;5;241m.\u001b[39marange(\u001b[38;5;241m1\u001b[39m, \u001b[38;5;241m21\u001b[39m)\u001b[38;5;241m.\u001b[39mreshape(\u001b[38;5;241m5\u001b[39m, \u001b[38;5;241m4\u001b[39m), columns\u001b[38;5;241m=\u001b[39m[\u001b[38;5;124m'\u001b[39m\u001b[38;5;124mA\u001b[39m\u001b[38;5;124m'\u001b[39m, \u001b[38;5;124m'\u001b[39m\u001b[38;5;124mB\u001b[39m\u001b[38;5;124m'\u001b[39m, \u001b[38;5;124m'\u001b[39m\u001b[38;5;124mC\u001b[39m\u001b[38;5;124m'\u001b[39m, \u001b[38;5;124m'\u001b[39m\u001b[38;5;124mD\u001b[39m\u001b[38;5;124m'\u001b[39m])\n\u001b[0;32m      2\u001b[0m df[\u001b[38;5;124m'\u001b[39m\u001b[38;5;124mE\u001b[39m\u001b[38;5;124m'\u001b[39m] \u001b[38;5;241m=\u001b[39m [\u001b[38;5;241m31\u001b[39m, \u001b[38;5;241m32\u001b[39m, \u001b[38;5;241m33\u001b[39m, \u001b[38;5;241m34\u001b[39m, \u001b[38;5;241m35\u001b[39m]  \u001b[38;5;66;03m# 없으면 아래 추가하는 내용이랑 안 맞음, e열 한줄이 없어서\u001b[39;00m\n\u001b[0;32m      3\u001b[0m \u001b[38;5;66;03m# df.iloc[:, 5] = [40,  41, 42, 43, 44]        # 에러, 걍 내용만 추가한게 됨\u001b[39;00m\n\u001b[0;32m      4\u001b[0m \u001b[38;5;66;03m# df.iloc[5, :] = [90, 91, 92, 93, 94]           # 에러, 추가가 안됨\u001b[39;00m\n\u001b[0;32m      5\u001b[0m \u001b[38;5;66;03m# df.iloc[:, 5] = [90, 91, 92, 93, 94]           # 에러, 추가가 안됨\u001b[39;00m\n\u001b[0;32m      6\u001b[0m \n\u001b[0;32m      7\u001b[0m \u001b[38;5;66;03m# 기존 데이터에 열을 추가할때 (추가된다는건 수정도 된다)\u001b[39;00m\n",
      "\u001b[1;31mNameError\u001b[0m: name 'pd' is not defined"
     ]
    }
   ],
   "source": [
    "df = pd.DateFrame(np.arange(1, 21).reshape(5, 4), columns=['A', 'B', 'C', 'D'])\n",
    "df['E'] = [31, 32, 33, 34, 35]  # 없으면 아래 추가하는 내용이랑 안 맞음, e열 한줄이 없어서\n",
    "# df.iloc[:, 5] = [40,  41, 42, 43, 44]        # 에러, 걍 내용만 추가한게 됨\n",
    "# df.iloc[5, :] = [90, 91, 92, 93, 94]           # 에러, 추가가 안됨\n",
    "# df.iloc[:, 5] = [90, 91, 92, 93, 94]           # 에러, 추가가 안됨\n",
    "\n",
    "# 기존 데이터에 열을 추가할때 (추가된다는건 수정도 된다)\n",
    "df.loc[5] = [90, 91, 92, 93, 94]\n",
    "df.loc[:, 'F'] = [40, 41, 42, 43, 44, 45]\n",
    "\n",
    "# 있는 칼럼을 주면 수정해라가 됨\n",
    "df.loc[0, 'A'] = 99\n",
    "df.loc[1, 'A':'C'] = [100, 101, 102]\n",
    "# 값 세개 수정하기\n",
    "df.loc[3, ['A', 'C', 'E']] = [200, 201, 202]\n",
    "\n",
    "# 지우기\n",
    "del(df['E'])\n",
    "# del(df.loc[:, 'E'])       에러\n",
    "\n",
    "# df.drop('F') # 그냥 실행하면 에러, 이렇게 하면 열 0인데 F라는 열 없음\n",
    "# print (df.drop('F', axis=1 )) # 삭제된 복제본 출력\n",
    "df = df.drop( 'F', axis=1) # 원본 삭제\n",
    "df.drop(5) # 0은 기본값이라 안 써도 됨\n",
    "\n",
    "print(df)"
   ]
  },
  {
   "cell_type": "code",
   "execution_count": 19,
   "id": "bec7986b-1e4e-414f-aa95-882807a9228e",
   "metadata": {},
   "outputs": [
    {
     "ename": "NameError",
     "evalue": "name 'pd' is not defined",
     "output_type": "error",
     "traceback": [
      "\u001b[1;31m---------------------------------------------------------------------------\u001b[0m",
      "\u001b[1;31mNameError\u001b[0m                                 Traceback (most recent call last)",
      "Cell \u001b[1;32mIn[19], line 3\u001b[0m\n\u001b[0;32m      1\u001b[0m \u001b[38;5;66;03m# Boolean Indexing\u001b[39;00m\n\u001b[1;32m----> 3\u001b[0m df \u001b[38;5;241m=\u001b[39m pd\u001b[38;5;241m.\u001b[39mDataFrame(\n\u001b[0;32m      4\u001b[0m     [[\u001b[38;5;124m'\u001b[39m\u001b[38;5;124mkim\u001b[39m\u001b[38;5;124m'\u001b[39m, \u001b[38;5;241m20\u001b[39m, \u001b[38;5;124m'\u001b[39m\u001b[38;5;124m1111-2222\u001b[39m\u001b[38;5;124m'\u001b[39m],\n\u001b[0;32m      5\u001b[0m      [\u001b[38;5;124m'\u001b[39m\u001b[38;5;124mlee\u001b[39m\u001b[38;5;124m'\u001b[39m, \u001b[38;5;241m30\u001b[39m, \u001b[38;5;124m'\u001b[39m\u001b[38;5;124m2222-1111\u001b[39m\u001b[38;5;124m'\u001b[39m],\n\u001b[0;32m      6\u001b[0m      [\u001b[38;5;124m'\u001b[39m\u001b[38;5;124mpark\u001b[39m\u001b[38;5;124m'\u001b[39m, \u001b[38;5;241m35\u001b[39m, \u001b[38;5;124m'\u001b[39m\u001b[38;5;124m3333-2222\u001b[39m\u001b[38;5;124m'\u001b[39m],\n\u001b[0;32m      7\u001b[0m      [\u001b[38;5;124m'\u001b[39m\u001b[38;5;124mjung\u001b[39m\u001b[38;5;124m'\u001b[39m, \u001b[38;5;241m23\u001b[39m, \u001b[38;5;124m'\u001b[39m\u001b[38;5;124m3333-1111\u001b[39m\u001b[38;5;124m'\u001b[39m],\n\u001b[0;32m      8\u001b[0m      [\u001b[38;5;124m'\u001b[39m\u001b[38;5;124mhong\u001b[39m\u001b[38;5;124m'\u001b[39m, \u001b[38;5;241m40\u001b[39m, \u001b[38;5;124m'\u001b[39m\u001b[38;5;124m1111-3333\u001b[39m\u001b[38;5;124m'\u001b[39m]], columns\u001b[38;5;241m=\u001b[39m[\u001b[38;5;124m'\u001b[39m\u001b[38;5;124mname\u001b[39m\u001b[38;5;124m'\u001b[39m, \u001b[38;5;124m'\u001b[39m\u001b[38;5;124mage\u001b[39m\u001b[38;5;124m'\u001b[39m, \u001b[38;5;124m'\u001b[39m\u001b[38;5;124mtel\u001b[39m\u001b[38;5;124m'\u001b[39m]\n\u001b[0;32m      9\u001b[0m )\n\u001b[0;32m     11\u001b[0m \u001b[38;5;28mprint\u001b[39m(df)\n",
      "\u001b[1;31mNameError\u001b[0m: name 'pd' is not defined"
     ]
    }
   ],
   "source": [
    "# Boolean Indexing\n",
    "\n",
    "df = pd.DataFrame(\n",
    "    [['kim', 20, '1111-2222'],\n",
    "     ['lee', 30, '2222-1111'],\n",
    "     ['park', 35, '3333-2222'],\n",
    "     ['jung', 23, '3333-1111'],\n",
    "     ['hong', 40, '1111-3333']], columns=['name', 'age', 'tel']\n",
    ")\n",
    "\n",
    "print(df)\n",
    "\n",
    "print(df.loc[3, 'name'])\n",
    "print(df.loc[df['age'] > 30, ['name', 'age']]) # 앞은 행 고르기 ,뒤는 열 고르기 (확인하려고 출력만 한것)\n",
    "# df1 = df.loc[df['age'] > 30, ['name', 'age']] 이런식으로 받아놓기만 해도 됨\n",
    "print(df.loc[df['name'] == 'kim', : ]) # kim을 다 출력할거면 : 주고 닫기\n",
    "print(df.loc[df['age'] > 20 & (df['age'] < 40), 'name':'tel'] ) # 조건 여러개이면 () 묶어서 헷갈리지 않게 쓰기\n",
    "\n"
   ]
  },
  {
   "cell_type": "code",
   "execution_count": null,
   "id": "cc93a5d6-f97b-497e-ac45-27ec398fdd62",
   "metadata": {},
   "outputs": [],
   "source": [
    "# 결측값 대체\n",
    "# 데이터는 반드시 계속 갱신되어야 함\n",
    "df['address'] = ['서울', np.nan, np.man, '수원', np.nan]\n",
    "\n",
    "print(df.loc[df['address'] == np.nan, 'address'])\n",
    "print(df.loc[df['address'] == None, 'address'])\n",
    "\n",
    "# 주소 없는 애들 걸러내는 법\n",
    "print(df.loc[df['address'].isnull(), 'address'])          \n",
    "# 빈칸 대체하기\n",
    "df.loc[ df['address'].isnull(), 'address'] = 서울\n",
    "\n",
    "df.loc[ ::2, 'address'] = ''      # 빈값으로 들어가있음\n",
    "df.loc[df['address'] == '', 'address'] = 서울\n",
    "\n",
    "print(df)"
   ]
  },
  {
   "cell_type": "code",
   "execution_count": 21,
   "id": "c336d134-af11-41b5-bafe-8f8ba5ca9f85",
   "metadata": {},
   "outputs": [
    {
     "ename": "NameError",
     "evalue": "name 'np' is not defined",
     "output_type": "error",
     "traceback": [
      "\u001b[1;31m---------------------------------------------------------------------------\u001b[0m",
      "\u001b[1;31mNameError\u001b[0m                                 Traceback (most recent call last)",
      "Cell \u001b[1;32mIn[21], line 2\u001b[0m\n\u001b[0;32m      1\u001b[0m \u001b[38;5;66;03m# 결측값 제거\u001b[39;00m\n\u001b[1;32m----> 2\u001b[0m df\u001b[38;5;241m.\u001b[39mloc[::\u001b[38;5;241m2\u001b[39m, \u001b[38;5;124m'\u001b[39m\u001b[38;5;124mtel\u001b[39m\u001b[38;5;124m'\u001b[39m ] \u001b[38;5;241m=\u001b[39m np\u001b[38;5;241m.\u001b[39mnan\n\u001b[0;32m      3\u001b[0m df\u001b[38;5;241m.\u001b[39mloc[ \u001b[38;5;241m5\u001b[39m, :] \u001b[38;5;241m=\u001b[39m [ np\u001b[38;5;241m.\u001b[39mnan, np\u001b[38;5;241m.\u001b[39mnan, np\u001b[38;5;241m.\u001b[39mnan, np\u001b[38;5;241m.\u001b[39mnan ]\n\u001b[0;32m      5\u001b[0m \u001b[38;5;66;03m# df.dropna(how='all', inplace=True) # 전체 다 na일때만 지워라\u001b[39;00m\n\u001b[0;32m      6\u001b[0m \u001b[38;5;66;03m# df.df.dropna(how='any', inplace=True) # 하나라도 na이 들어있으면 다 지워라 all보다 강력함\u001b[39;00m\n",
      "\u001b[1;31mNameError\u001b[0m: name 'np' is not defined"
     ]
    }
   ],
   "source": [
    "# 결측값 제거\n",
    "df.loc[::2, 'tel' ] = np.nan\n",
    "df.loc[ 5, :] = [ np.nan, np.nan, np.nan, np.nan ]\n",
    "\n",
    "# df.dropna(how='all', inplace=True) # 전체 다 na일때만 지워라\n",
    "# df.df.dropna(how='any', inplace=True) # 하나라도 na이 들어있으면 다 지워라 all보다 강력함\n",
    "\n",
    "df['income'] = [ 300, np.nan, 400, 500, np.nan, 300]\n",
    "# df = df.fillna({'address': '서울'}, inpalce=True) # df= 로 다시 받아서 원본에 적용해라 \n",
    "df.fillna({'address': '서울'}, inpalce=True)\n",
    "df.fillna({'income':np.mean(df['income'])}, inplace=True) #na값은 빼고 계산함\n",
    "\n",
    "df.drop( [4, 5], inplace=True)\n",
    "df.drop(['address', 'incom'], axis=1, inplace=True)\n",
    "\n",
    "print(df)\n",
    "\n",
    "# print(df.T)\n",
    "print(df.transpose())         # 전치행렬"
   ]
  },
  {
   "cell_type": "code",
   "execution_count": 23,
   "id": "a883fe6c-2409-4923-a29f-784231f155f4",
   "metadata": {},
   "outputs": [
    {
     "name": "stderr",
     "output_type": "stream",
     "text": [
      "<>:7: SyntaxWarning: list indices must be integers or slices, not tuple; perhaps you missed a comma?\n",
      "<>:7: SyntaxWarning: list indices must be integers or slices, not tuple; perhaps you missed a comma?\n",
      "C:\\Users\\82107\\AppData\\Local\\Temp\\ipykernel_2760\\3884037489.py:7: SyntaxWarning: list indices must be integers or slices, not tuple; perhaps you missed a comma?\n",
      "  ['kang', 35, 58, 52]\n",
      "C:\\Users\\82107\\AppData\\Local\\Temp\\ipykernel_2760\\3884037489.py:7: SyntaxWarning: list indices must be integers or slices, not tuple; perhaps you missed a comma?\n",
      "  ['kang', 35, 58, 52]\n",
      "C:\\Users\\82107\\AppData\\Local\\Temp\\ipykernel_2760\\3884037489.py:7: SyntaxWarning: list indices must be integers or slices, not tuple; perhaps you missed a comma?\n",
      "  ['kang', 35, 58, 52]\n",
      "C:\\Users\\82107\\AppData\\Local\\Temp\\ipykernel_2760\\3884037489.py:7: SyntaxWarning: list indices must be integers or slices, not tuple; perhaps you missed a comma?\n",
      "  ['kang', 35, 58, 52]\n",
      "C:\\Users\\82107\\AppData\\Local\\Temp\\ipykernel_2760\\3884037489.py:7: SyntaxWarning: list indices must be integers or slices, not tuple; perhaps you missed a comma?\n",
      "  ['kang', 35, 58, 52]\n"
     ]
    },
    {
     "ename": "NameError",
     "evalue": "name 'pd' is not defined",
     "output_type": "error",
     "traceback": [
      "\u001b[1;31m---------------------------------------------------------------------------\u001b[0m",
      "\u001b[1;31mNameError\u001b[0m                                 Traceback (most recent call last)",
      "Cell \u001b[1;32mIn[23], line 2\u001b[0m\n\u001b[0;32m      1\u001b[0m \u001b[38;5;66;03m# Pandas 함수 (2차원 리스트)\u001b[39;00m\n\u001b[1;32m----> 2\u001b[0m df \u001b[38;5;241m=\u001b[39m pd\u001b[38;5;241m.\u001b[39mDataFrame(\n\u001b[0;32m      3\u001b[0m     [[\u001b[38;5;124m'\u001b[39m\u001b[38;5;124mkim\u001b[39m\u001b[38;5;124m'\u001b[39m, \u001b[38;5;241m90\u001b[39m, \u001b[38;5;241m80\u001b[39m, \u001b[38;5;241m70\u001b[39m],\n\u001b[0;32m      4\u001b[0m      [\u001b[38;5;124m'\u001b[39m\u001b[38;5;124mlee\u001b[39m\u001b[38;5;124m'\u001b[39m, \u001b[38;5;241m45\u001b[39m, np\u001b[38;5;241m.\u001b[39mnan, \u001b[38;5;241m55\u001b[39m],\n\u001b[0;32m      5\u001b[0m      [\u001b[38;5;124m'\u001b[39m\u001b[38;5;124mpark\u001b[39m\u001b[38;5;124m'\u001b[39m, \u001b[38;5;241m76\u001b[39m, \u001b[38;5;241m77\u001b[39m, \u001b[38;5;241m83\u001b[39m],\n\u001b[0;32m      6\u001b[0m      [\u001b[38;5;124m'\u001b[39m\u001b[38;5;124mhong\u001b[39m\u001b[38;5;124m'\u001b[39m, np\u001b[38;5;241m.\u001b[39mnan, np\u001b[38;5;241m.\u001b[39mnan, \u001b[38;5;241m77\u001b[39m],\n\u001b[0;32m      7\u001b[0m      [\u001b[38;5;124m'\u001b[39m\u001b[38;5;124mkang\u001b[39m\u001b[38;5;124m'\u001b[39m, \u001b[38;5;241m35\u001b[39m, \u001b[38;5;241m58\u001b[39m, \u001b[38;5;241m52\u001b[39m]\n\u001b[0;32m      8\u001b[0m      [\u001b[38;5;124m'\u001b[39m\u001b[38;5;124mjang\u001b[39m\u001b[38;5;124m'\u001b[39m, np\u001b[38;5;241m.\u001b[39mnan, np\u001b[38;5;241m.\u001b[39mnan, np\u001b[38;5;241m.\u001b[39mnan]], columns\u001b[38;5;241m=\u001b[39m[\u001b[38;5;124m'\u001b[39m\u001b[38;5;124mname\u001b[39m\u001b[38;5;124m'\u001b[39m, \u001b[38;5;124m'\u001b[39m\u001b[38;5;124mkor\u001b[39m\u001b[38;5;124m'\u001b[39m, \u001b[38;5;124m'\u001b[39m\u001b[38;5;124meng\u001b[39m\u001b[38;5;124m'\u001b[39m, \u001b[38;5;124m'\u001b[39m\u001b[38;5;124mmat\u001b[39m\u001b[38;5;124m'\u001b[39m]\n\u001b[0;32m      9\u001b[0m )\n\u001b[0;32m     11\u001b[0m \u001b[38;5;28mprint\u001b[39m(df)\n",
      "\u001b[1;31mNameError\u001b[0m: name 'pd' is not defined"
     ]
    }
   ],
   "source": [
    "# Pandas 함수 (2차원 리스트)\n",
    "df = pd.DataFrame(\n",
    "    [['kim', 90, 80, 70],\n",
    "     ['lee', 45, np.nan, 55],\n",
    "     ['park', 76, 77, 83],\n",
    "     ['hong', np.nan, np.nan, 77],\n",
    "     ['kang', 35, 58, 52]\n",
    "     ['jang', np.nan, np.nan, np.nan]], columns=['name', 'kor', 'eng', 'mat']\n",
    ")\n",
    "\n",
    "# print(df)\n",
    "# print(df.count())\n",
    "# print(df.count(axix=1))\n",
    "# print(df.min())      # 최솟값 구하기\n",
    "# print(df.loc[:, 1:3].min(axis=1)\n",
    "\n",
    "# print(df.loc[:, 'kor':'mat'].var() ) # 분산\n",
    "# print(df.loc[:, 'kor':'mat'].std() ) # 표준편차\n",
    "\n",
    "df['tot'] = df.loc[:, 'kor':'mat'].sum(axis=1) # 옆으로 토탈 구하기, 이름빼기 위해 범위지정\n",
    "df['avg'] = df.loc[:, 'kor':'mat'].min(axis=1) # 평균 구하기\n",
    "print(df['kor'].corr(df['eng'])) # 상관관계 구하기\n",
    "# 수치가 1에 가까우면 양의 상관관계\n",
    "# 수치가 0이면 상관관계가 낮다\n",
    "# 수치가 -1이면 음의 상관관계\n",
    " \n",
    "print(df)"
   ]
  },
  {
   "cell_type": "code",
   "execution_count": null,
   "id": "4fc77397-69c2-4cf8-b417-347b40a6b171",
   "metadata": {},
   "outputs": [],
   "source": []
  },
  {
   "cell_type": "code",
   "execution_count": null,
   "id": "09150f10-2dac-4a6d-9532-cabf5aa1f6fe",
   "metadata": {},
   "outputs": [],
   "source": []
  },
  {
   "cell_type": "code",
   "execution_count": null,
   "id": "73e7118d-fc34-45e4-829b-03298fc0356c",
   "metadata": {},
   "outputs": [],
   "source": []
  },
  {
   "cell_type": "code",
   "execution_count": null,
   "id": "6c1cd9ee-3651-43c6-b82c-e42ed7804cfc",
   "metadata": {},
   "outputs": [],
   "source": []
  },
  {
   "cell_type": "code",
   "execution_count": null,
   "id": "a896b4e1-487e-4303-a2fb-039b72cd6e71",
   "metadata": {},
   "outputs": [],
   "source": []
  },
  {
   "cell_type": "code",
   "execution_count": null,
   "id": "fa441856-c99a-41a6-882e-4c5934b52192",
   "metadata": {},
   "outputs": [],
   "source": []
  },
  {
   "cell_type": "code",
   "execution_count": null,
   "id": "178d15cc-386e-4222-9195-6e92b70a4259",
   "metadata": {},
   "outputs": [],
   "source": []
  }
 ],
 "metadata": {
  "kernelspec": {
   "display_name": "Python 3 (ipykernel)",
   "language": "python",
   "name": "python3"
  },
  "language_info": {
   "codemirror_mode": {
    "name": "ipython",
    "version": 3
   },
   "file_extension": ".py",
   "mimetype": "text/x-python",
   "name": "python",
   "nbconvert_exporter": "python",
   "pygments_lexer": "ipython3",
   "version": "3.12.4"
  }
 },
 "nbformat": 4,
 "nbformat_minor": 5
}
