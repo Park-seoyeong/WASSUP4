{
 "cells": [
  {
   "cell_type": "code",
   "execution_count": 4,
   "id": "3c7a1fec-b885-43aa-a7b7-79e76af5adf6",
   "metadata": {},
   "outputs": [
    {
     "name": "stdout",
     "output_type": "stream",
     "text": [
      "a    1\n",
      "b    2\n",
      "c    3\n",
      "d    4\n",
      "dtype: int64\n"
     ]
    }
   ],
   "source": [
    "import pandas as pd\n",
    "\n",
    "#시리즈 생성\n",
    "data = pd.Series([1, 2, 3, 4], index=['a', 'b', 'c', 'd'])\n",
    "print(data)"
   ]
  },
  {
   "cell_type": "code",
   "execution_count": 5,
   "id": "6cd8d32d-fd76-45fc-bda4-ca890412886d",
   "metadata": {},
   "outputs": [
    {
     "name": "stdout",
     "output_type": "stream",
     "text": [
      "    이름  나이\n",
      "0  이름1  25\n",
      "1  이름2  30\n",
      "2  이름3  22\n"
     ]
    }
   ],
   "source": [
    "#데이터 프레임 생성\n",
    "data = { '이름': ['이름1', '이름2', '이름3'],\n",
    "         '나이': [25, 30, 22]}\n",
    "        \n",
    "df = pd.DataFrame(data)\n",
    "print(df)"
   ]
  },
  {
   "cell_type": "code",
   "execution_count": 7,
   "id": "d442a43d-f244-41a1-b6b9-c5729ae4909a",
   "metadata": {},
   "outputs": [
    {
     "name": "stdout",
     "output_type": "stream",
     "text": [
      "    이름  나이\n",
      "0  이름1  25\n",
      "1  이름2  30\n",
      "2  이름3  22\n"
     ]
    }
   ],
   "source": [
    "print (df.head())"
   ]
  },
  {
   "cell_type": "code",
   "execution_count": 8,
   "id": "fa8a29f6-f65d-4e99-b973-c3da152770cb",
   "metadata": {},
   "outputs": [
    {
     "name": "stdout",
     "output_type": "stream",
     "text": [
      "    이름  나이\n",
      "0  이름1  25\n",
      "1  이름2  30\n"
     ]
    }
   ],
   "source": [
    "# 나이가 25 이상인 행만 필터링\n",
    "filtered_data = df[df['나이'] >=25]\n",
    "print(filtered_data)"
   ]
  },
  {
   "cell_type": "code",
   "execution_count": 9,
   "id": "d0aa5216-7bd3-412b-b6b2-d9e3a2f8e620",
   "metadata": {},
   "outputs": [
    {
     "name": "stdout",
     "output_type": "stream",
     "text": [
      "    이름  나이\n",
      "2  이름3  22\n",
      "0  이름1  25\n",
      "1  이름2  30\n"
     ]
    }
   ],
   "source": [
    "# 나이 기준으로 오름차순 정렬\n",
    "sorted_data = df.sort_values (by='나이')\n",
    "print(sorted_data)"
   ]
  },
  {
   "cell_type": "code",
   "execution_count": null,
   "id": "83035514-0136-4fac-9a55-4fc8b14d176f",
   "metadata": {},
   "outputs": [],
   "source": []
  },
  {
   "cell_type": "code",
   "execution_count": null,
   "id": "99a856af-c0f6-4ea9-b06f-895f6b0760c3",
   "metadata": {},
   "outputs": [],
   "source": []
  },
  {
   "cell_type": "code",
   "execution_count": null,
   "id": "88d20465-7f0f-4c34-9dde-19ce4a5256b8",
   "metadata": {},
   "outputs": [],
   "source": []
  },
  {
   "cell_type": "code",
   "execution_count": null,
   "id": "879c9be5-e7a5-404d-970f-565bcc341b29",
   "metadata": {},
   "outputs": [],
   "source": []
  },
  {
   "cell_type": "code",
   "execution_count": null,
   "id": "955f3d9b-4fc1-4b79-83bc-67894ab5d428",
   "metadata": {},
   "outputs": [],
   "source": []
  },
  {
   "cell_type": "code",
   "execution_count": null,
   "id": "0946f4fb-26fd-4113-a2a8-3561722e7221",
   "metadata": {},
   "outputs": [],
   "source": []
  },
  {
   "cell_type": "code",
   "execution_count": null,
   "id": "873f5cd3-4fa9-4a7f-bc21-71145b1cbd5b",
   "metadata": {},
   "outputs": [],
   "source": []
  },
  {
   "cell_type": "code",
   "execution_count": null,
   "id": "6abd631e-7e90-4964-8e2e-91c3255015a6",
   "metadata": {},
   "outputs": [],
   "source": []
  },
  {
   "cell_type": "code",
   "execution_count": null,
   "id": "14207023-c27f-4c25-92f4-71de36d736d6",
   "metadata": {},
   "outputs": [],
   "source": []
  }
 ],
 "metadata": {
  "kernelspec": {
   "display_name": "Python 3 (ipykernel)",
   "language": "python",
   "name": "python3"
  },
  "language_info": {
   "codemirror_mode": {
    "name": "ipython",
    "version": 3
   },
   "file_extension": ".py",
   "mimetype": "text/x-python",
   "name": "python",
   "nbconvert_exporter": "python",
   "pygments_lexer": "ipython3",
   "version": "3.12.4"
  }
 },
 "nbformat": 4,
 "nbformat_minor": 5
}
