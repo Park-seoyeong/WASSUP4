{
 "cells": [
  {
   "cell_type": "code",
   "execution_count": 2,
   "id": "827fb7c4-f27e-4f42-a486-d9787d9e0719",
   "metadata": {},
   "outputs": [
    {
     "name": "stdout",
     "output_type": "stream",
     "text": [
      "hello world\n"
     ]
    }
   ],
   "source": [
    "print (\"hello world\")"
   ]
  },
  {
   "cell_type": "code",
   "execution_count": 6,
   "id": "0facbc57-bebd-4c95-b8dc-bbe403c70b0d",
   "metadata": {},
   "outputs": [
    {
     "name": "stdout",
     "output_type": "stream",
     "text": [
      "Mary's cosmetics\n"
     ]
    }
   ],
   "source": [
    "print (\"Mary's cosmetics\")"
   ]
  },
  {
   "cell_type": "code",
   "execution_count": 7,
   "id": "bc2edd52-5049-46b8-b40f-fda1fff4c58b",
   "metadata": {},
   "outputs": [
    {
     "name": "stdout",
     "output_type": "stream",
     "text": [
      "신씨가 소리질렀다. \"도둑이야\".\n"
     ]
    }
   ],
   "source": [
    "print ('신씨가 소리질렀다. \"도둑이야\".')"
   ]
  },
  {
   "cell_type": "code",
   "execution_count": 18,
   "id": "465e863b-cc24-499d-849d-c1fe7a60a297",
   "metadata": {},
   "outputs": [
    {
     "name": "stdout",
     "output_type": "stream",
     "text": [
      "C:\\Windows\n"
     ]
    }
   ],
   "source": [
    "print (\"C:\\\\Windows\")"
   ]
  },
  {
   "cell_type": "code",
   "execution_count": 10,
   "id": "360a92a9-8829-4706-bb06-289df71f7df8",
   "metadata": {},
   "outputs": [
    {
     "name": "stdout",
     "output_type": "stream",
     "text": [
      "안녕하세요.\n",
      "만나서\t\t반갑습니다.\n"
     ]
    }
   ],
   "source": [
    "print(\"안녕하세요.\\n만나서\\t\\t반갑습니다.\")"
   ]
  },
  {
   "cell_type": "markdown",
   "id": "70b42727-7eb1-4700-a6fb-09bac60d0b15",
   "metadata": {},
   "source": [
    "\\t: 탭 \\n 줄바꿈"
   ]
  },
  {
   "cell_type": "code",
   "execution_count": 11,
   "id": "fd9e1e68-39dd-4b84-a05f-af6eb765da74",
   "metadata": {},
   "outputs": [
    {
     "name": "stdout",
     "output_type": "stream",
     "text": [
      "오늘은 일요일\n"
     ]
    }
   ],
   "source": [
    "print (\"오늘은\", \"일요일\")"
   ]
  },
  {
   "cell_type": "code",
   "execution_count": 14,
   "id": "44d58de0-fa26-47bf-a9f3-aaa31882bc34",
   "metadata": {},
   "outputs": [
    {
     "name": "stdout",
     "output_type": "stream",
     "text": [
      "naver;kakao;sk;samsung\n"
     ]
    }
   ],
   "source": [
    "print(\"naver\", \"kakao\", \"sk\", \"samsung\", sep=\";\")"
   ]
  },
  {
   "cell_type": "markdown",
   "id": "710ed12a-9978-423b-a9e5-0a32e0d6e637",
   "metadata": {},
   "source": [
    "영단어 그대로 분리하여 출력, 기본 값으로는 공백이 들어가 있으며 이를 사용해 원하는 문자를 입력 가능"
   ]
  },
  {
   "cell_type": "code",
   "execution_count": 15,
   "id": "f0792e17-40cc-4295-b94a-99b2aa6248ac",
   "metadata": {},
   "outputs": [
    {
     "name": "stdout",
     "output_type": "stream",
     "text": [
      "naver/kakao/sk/samsung\n"
     ]
    }
   ],
   "source": [
    "print(\"naver\", \"kakao\",\"sk\", \"samsung\", sep=\"/\")"
   ]
  },
  {
   "cell_type": "code",
   "execution_count": 16,
   "id": "65925a18-dd6e-4a9c-9d30-8ae84f34544f",
   "metadata": {},
   "outputs": [
    {
     "name": "stdout",
     "output_type": "stream",
     "text": [
      "firstsecond\n"
     ]
    }
   ],
   "source": [
    "print(\"first\", end=\"\"); print(\"second\")"
   ]
  },
  {
   "cell_type": "markdown",
   "id": "12ab787e-499d-4458-891d-530026109eca",
   "metadata": {},
   "source": [
    "print문을 이용해 출력을 완료한 뒤의 내용을 수정/ 기본 값으로는 개행(\\n) 이를 사용해 개행을 없애거나 원하는 문자를 입력가능"
   ]
  },
  {
   "cell_type": "code",
   "execution_count": 17,
   "id": "e3bc550d-6d92-4c03-891e-60aeb596b14d",
   "metadata": {},
   "outputs": [
    {
     "name": "stdout",
     "output_type": "stream",
     "text": [
      "1.6666666666666667\n"
     ]
    }
   ],
   "source": [
    "print(5/3)"
   ]
  },
  {
   "cell_type": "code",
   "execution_count": 19,
   "id": "57d04bc8-e672-4482-b64f-58a4f9bcc52b",
   "metadata": {},
   "outputs": [
    {
     "name": "stdout",
     "output_type": "stream",
     "text": [
      "500000\n"
     ]
    }
   ],
   "source": [
    "#011 변수 사용하기\n",
    "삼성전자 = 50000\n",
    "총평가금액 = 삼성전자 * 10\n",
    "print(총평가금액)"
   ]
  },
  {
   "cell_type": "code",
   "execution_count": 24,
   "id": "c6207425-de44-4596-8d17-4b332cca6e1c",
   "metadata": {},
   "outputs": [
    {
     "name": "stdout",
     "output_type": "stream",
     "text": [
      "298000000000000 <class 'int'>\n",
      "50000 <class 'int'>\n",
      "15.79 <class 'float'>\n"
     ]
    }
   ],
   "source": [
    "#012 변수 사용하기\n",
    "시가총액 = 298000000000000\n",
    "현재가 = 50000\n",
    "PER = 15.79\n",
    "print(시가총액, type(시가총액))\n",
    "print(현재가, type(현재가))\n",
    "print(PER, type(PER))"
   ]
  },
  {
   "cell_type": "code",
   "execution_count": 28,
   "id": "03cab1b9-8f43-4dff-9c3f-3d80d4f75ee3",
   "metadata": {},
   "outputs": [
    {
     "name": "stdout",
     "output_type": "stream",
     "text": [
      "hello! python\n"
     ]
    }
   ],
   "source": [
    "#013 문자열 출력\n",
    "s = \"hello\"\n",
    "t = \"python\"\n",
    "print (s+\"!\", t)"
   ]
  },
  {
   "cell_type": "code",
   "execution_count": 29,
   "id": "56fae270-4a6d-4eee-b774-3ee3eb4fe442",
   "metadata": {},
   "outputs": [
    {
     "data": {
      "text/plain": [
       "8"
      ]
     },
     "execution_count": 29,
     "metadata": {},
     "output_type": "execute_result"
    }
   ],
   "source": [
    "#014 파이썬을 이용한 값 계산\n",
    "2 + 2 * 3 "
   ]
  },
  {
   "cell_type": "code",
   "execution_count": 32,
   "id": "5a695200-275b-4975-8950-d42837940e64",
   "metadata": {},
   "outputs": [
    {
     "ename": "SyntaxError",
     "evalue": "invalid syntax (1854018726.py, line 3)",
     "output_type": "error",
     "traceback": [
      "\u001b[1;36m  Cell \u001b[1;32mIn[32], line 3\u001b[1;36m\u001b[0m\n\u001b[1;33m    <class 'int'>\u001b[0m\n\u001b[1;37m    ^\u001b[0m\n\u001b[1;31mSyntaxError\u001b[0m\u001b[1;31m:\u001b[0m invalid syntax\n"
     ]
    }
   ],
   "source": [
    "a = 128\n",
    "print (type(a))\n",
    "<class 'int'>"
   ]
  },
  {
   "cell_type": "code",
   "execution_count": 33,
   "id": "b8f15ae9-b226-4c34-90dc-3ef51f0eb7b9",
   "metadata": {},
   "outputs": [
    {
     "name": "stdout",
     "output_type": "stream",
     "text": [
      "<class 'str'>\n"
     ]
    }
   ],
   "source": [
    "#015 type 함수\n",
    "a = \"132\"\n",
    "print (type(a))"
   ]
  },
  {
   "cell_type": "code",
   "execution_count": null,
   "id": "1d16feea-1065-4912-9c7c-c9a458482117",
   "metadata": {},
   "outputs": [],
   "source": [
    "#016 문자열을 정수로 변환\n",
    "num_str = \"720\""
   ]
  },
  {
   "cell_type": "code",
   "execution_count": 37,
   "id": "fc2b821d-a436-484c-aec9-5fdf9c33ad71",
   "metadata": {},
   "outputs": [
    {
     "name": "stdout",
     "output_type": "stream",
     "text": [
      "<class 'int'>\n"
     ]
    }
   ],
   "source": [
    "num_str = \"720\"\n",
    "num_int = int(num_str)\n",
    "print(type(num_int))"
   ]
  },
  {
   "cell_type": "markdown",
   "id": "6a2bb8fd-c177-4455-82f7-d743ea3f4939",
   "metadata": {},
   "source": [
    "int()는 인자로 전달된 문자열을 Integer로 변환"
   ]
  },
  {
   "cell_type": "code",
   "execution_count": 38,
   "id": "36590e33-c531-444a-8780-14638f641f11",
   "metadata": {},
   "outputs": [
    {
     "name": "stdout",
     "output_type": "stream",
     "text": [
      "<class 'int'>\n"
     ]
    }
   ],
   "source": [
    "#017 정수를 문자열 100으로 변환\n",
    "num = 100\n",
    "num = int(100)\n",
    "print(type(100))"
   ]
  },
  {
   "cell_type": "code",
   "execution_count": 40,
   "id": "75394f40-9c99-42fb-98f0-cc2b40766499",
   "metadata": {},
   "outputs": [
    {
     "name": "stdout",
     "output_type": "stream",
     "text": [
      "<class 'str'>\n"
     ]
    }
   ],
   "source": [
    "#018 문자열을 실수로 변환\n",
    "str =  \"15.79\"\n",
    "str = float(\"15.79\")\n",
    "print(type(\"15.79\"))"
   ]
  },
  {
   "cell_type": "markdown",
   "id": "a1736040-558c-4fdf-9999-079d25d887c0",
   "metadata": {},
   "source": [
    "float()으로 String을 Float으로 변환"
   ]
  },
  {
   "cell_type": "code",
   "execution_count": 41,
   "id": "f681017e-4d87-42bb-ad83-98f7346e6121",
   "metadata": {},
   "outputs": [
    {
     "name": "stdout",
     "output_type": "stream",
     "text": [
      "15.79 <class 'float'>\n"
     ]
    }
   ],
   "source": [
    "data = \"15.79\"\n",
    "data = float(data)\n",
    "print(data, type(data))"
   ]
  },
  {
   "cell_type": "code",
   "execution_count": 43,
   "id": "c39cbbe9-734f-4c00-9521-ffcbfa045b76",
   "metadata": {},
   "outputs": [
    {
     "name": "stdout",
     "output_type": "stream",
     "text": [
      "<class 'str'>\n"
     ]
    }
   ],
   "source": [
    "#019 문자열을 정수로 변환\n",
    "year = \"2020\"\n",
    "year = int(\"2020\")\n",
    "print(type(\"2020\"))"
   ]
  },
  {
   "cell_type": "code",
   "execution_count": 44,
   "id": "9067d803-eadf-40a2-a1f8-6667f2352a13",
   "metadata": {},
   "outputs": [
    {
     "name": "stdout",
     "output_type": "stream",
     "text": [
      "2019 2020 2021\n"
     ]
    }
   ],
   "source": [
    "print (year-1, year, year+1)"
   ]
  },
  {
   "cell_type": "code",
   "execution_count": 46,
   "id": "44fd9357-35d3-411b-8cc6-baa4c43460c1",
   "metadata": {},
   "outputs": [
    {
     "data": {
      "text/plain": [
       "1749024"
      ]
     },
     "execution_count": 46,
     "metadata": {},
     "output_type": "execute_result"
    }
   ],
   "source": [
    "#020 파이썬 계산\n",
    "# 월 48,584원에 무이자 36개월의 조건으로 홈쇼핑에서 판매\n",
    "48584 * 36"
   ]
  },
  {
   "cell_type": "code",
   "execution_count": 49,
   "id": "14fa68b7-cf39-4f9c-ab46-c8f971b16315",
   "metadata": {},
   "outputs": [
    {
     "name": "stdout",
     "output_type": "stream",
     "text": [
      "1749024\n"
     ]
    }
   ],
   "source": [
    "월 = 48584\n",
    "총금액 = 월 * 36\n",
    "print(총금액)"
   ]
  },
  {
   "cell_type": "code",
   "execution_count": 50,
   "id": "42ac165e-c634-4b54-a4ab-c1ea275a8e9b",
   "metadata": {},
   "outputs": [
    {
     "name": "stdout",
     "output_type": "stream",
     "text": [
      "1 4\n"
     ]
    }
   ],
   "source": [
    "#021 문자열 인덱싱 (문자열에서 한 글자를 가져오는 것을 인덱싱)\n",
    "letters = 'python'\n",
    "print (1,4)"
   ]
  },
  {
   "cell_type": "code",
   "execution_count": 51,
   "id": "4d47fae7-7b38-4d01-9ddc-a62e14540106",
   "metadata": {},
   "outputs": [
    {
     "name": "stdout",
     "output_type": "stream",
     "text": [
      "p t\n"
     ]
    }
   ],
   "source": [
    "letters = 'python'\n",
    "print (letters[0], letters[2])"
   ]
  },
  {
   "cell_type": "code",
   "execution_count": 52,
   "id": "747e4f0a-5a0d-43fe-850d-8360ed979dc5",
   "metadata": {},
   "outputs": [
    {
     "ename": "SyntaxError",
     "evalue": "invalid syntax (2109105407.py, line 3)",
     "output_type": "error",
     "traceback": [
      "\u001b[1;36m  Cell \u001b[1;32mIn[52], line 3\u001b[1;36m\u001b[0m\n\u001b[1;33m    print ([4:7])\u001b[0m\n\u001b[1;37m             ^\u001b[0m\n\u001b[1;31mSyntaxError\u001b[0m\u001b[1;31m:\u001b[0m invalid syntax\n"
     ]
    }
   ],
   "source": [
    "#022 문자열 슬라이싱\n",
    "license_plate = \"24가 2210\"\n",
    "print ([4:7])"
   ]
  },
  {
   "cell_type": "code",
   "execution_count": 54,
   "id": "d5859d1e-9977-41c7-a8ea-a1a60faef420",
   "metadata": {},
   "outputs": [
    {
     "name": "stdout",
     "output_type": "stream",
     "text": [
      "2210\n"
     ]
    }
   ],
   "source": [
    "license_plate = \"24가 2210\"\n",
    "print (license_plate[-4:])"
   ]
  },
  {
   "cell_type": "code",
   "execution_count": 56,
   "id": "369bb237-2d4b-4708-8cc1-4d68a1633fde",
   "metadata": {},
   "outputs": [
    {
     "name": "stdout",
     "output_type": "stream",
     "text": [
      "홀홀홀\n"
     ]
    }
   ],
   "source": [
    "##023 문자열 인덱싱\n",
    "string = \"홀짝홀짝홀짝\"\n",
    "print (string[::2])"
   ]
  },
  {
   "cell_type": "markdown",
   "id": "7ed78ea5-8ab8-4daa-9883-9414eee56c6b",
   "metadata": {},
   "source": [
    "string[0:6:2]\n",
    ":: 처음과 끝 지정 2칸씩 뛰어서 출력"
   ]
  },
  {
   "cell_type": "code",
   "execution_count": 57,
   "id": "cb0f003d-7b12-4339-935e-1bcc0a6e23ce",
   "metadata": {},
   "outputs": [
    {
     "ename": "AttributeError",
     "evalue": "'str' object has no attribute 'reverse'",
     "output_type": "error",
     "traceback": [
      "\u001b[1;31m---------------------------------------------------------------------------\u001b[0m",
      "\u001b[1;31mAttributeError\u001b[0m                            Traceback (most recent call last)",
      "Cell \u001b[1;32mIn[57], line 3\u001b[0m\n\u001b[0;32m      1\u001b[0m \u001b[38;5;66;03m#024 문자열 슬라이싱\u001b[39;00m\n\u001b[0;32m      2\u001b[0m string \u001b[38;5;241m=\u001b[39m \u001b[38;5;124m\"\u001b[39m\u001b[38;5;124mPYTHON\u001b[39m\u001b[38;5;124m\"\u001b[39m\n\u001b[1;32m----> 3\u001b[0m string\u001b[38;5;241m.\u001b[39mreverse\n",
      "\u001b[1;31mAttributeError\u001b[0m: 'str' object has no attribute 'reverse'"
     ]
    }
   ],
   "source": [
    "#024 문자열 슬라이싱\n",
    "string = \"PYTHON\"\n",
    "string.reverse"
   ]
  },
  {
   "cell_type": "code",
   "execution_count": 58,
   "id": "5c365063-e795-47b0-8ec4-547e093be308",
   "metadata": {},
   "outputs": [
    {
     "name": "stdout",
     "output_type": "stream",
     "text": [
      "NOHTYP\n"
     ]
    }
   ],
   "source": [
    "string = \"PYTHON\"\n",
    "print(string[::-1])"
   ]
  },
  {
   "cell_type": "code",
   "execution_count": 60,
   "id": "da45fb4a-7d74-4fc1-bb20-12cf5fae1988",
   "metadata": {},
   "outputs": [
    {
     "name": "stdout",
     "output_type": "stream",
     "text": [
      "010 1111 2222\n"
     ]
    }
   ],
   "source": [
    "#025 문자열 치환\n",
    "phone_number = \"010-1111-2222\"\n",
    "phone_number = phone_number.replace(\"-\", \" \")\n",
    "print(phone_number)"
   ]
  },
  {
   "cell_type": "code",
   "execution_count": 61,
   "id": "9bb94a7c-2ea1-40a5-8e4d-874a1ddfc09d",
   "metadata": {},
   "outputs": [
    {
     "name": "stdout",
     "output_type": "stream",
     "text": [
      "01011112222\n"
     ]
    }
   ],
   "source": [
    "#026 문자열 다루기\n",
    "phone_number = \"010-1111-2222\"\n",
    "phone_number = phone_number.replace(\"-\", \"\")\n",
    "print(phone_number)"
   ]
  },
  {
   "cell_type": "code",
   "execution_count": 64,
   "id": "8e08359f-8108-49e1-a030-564af5887d6c",
   "metadata": {},
   "outputs": [
    {
     "name": "stdout",
     "output_type": "stream",
     "text": [
      "kr\n"
     ]
    }
   ],
   "source": [
    "#027 문자열 다루기\n",
    "url = \"http://sharebook.kr\"\n",
    "print (url[-2:])"
   ]
  },
  {
   "cell_type": "code",
   "execution_count": 66,
   "id": "b3b6d6e6-2c04-4757-8f93-9062cc43ad9e",
   "metadata": {},
   "outputs": [
    {
     "ename": "TypeError",
     "evalue": "'str' object does not support item assignment",
     "output_type": "error",
     "traceback": [
      "\u001b[1;31m---------------------------------------------------------------------------\u001b[0m",
      "\u001b[1;31mTypeError\u001b[0m                                 Traceback (most recent call last)",
      "Cell \u001b[1;32mIn[66], line 3\u001b[0m\n\u001b[0;32m      1\u001b[0m \u001b[38;5;66;03m#028 문자열은 immutable\u001b[39;00m\n\u001b[0;32m      2\u001b[0m lang \u001b[38;5;241m=\u001b[39m \u001b[38;5;124m'\u001b[39m\u001b[38;5;124mpython\u001b[39m\u001b[38;5;124m'\u001b[39m\n\u001b[1;32m----> 3\u001b[0m lang[\u001b[38;5;241m0\u001b[39m] \u001b[38;5;241m=\u001b[39m \u001b[38;5;124m'\u001b[39m\u001b[38;5;124mP\u001b[39m\u001b[38;5;124m'\u001b[39m\n\u001b[0;32m      4\u001b[0m \u001b[38;5;28mprint\u001b[39m(lang)\n",
      "\u001b[1;31mTypeError\u001b[0m: 'str' object does not support item assignment"
     ]
    }
   ],
   "source": [
    "#028 문자열은 immutable\n",
    "lang = 'python'\n",
    "lang[0] = 'P'\n",
    "print(lang)"
   ]
  },
  {
   "cell_type": "code",
   "execution_count": 67,
   "id": "6b9cbd1c-be7b-4fd5-ab77-3ee418f31bee",
   "metadata": {},
   "outputs": [
    {
     "name": "stdout",
     "output_type": "stream",
     "text": [
      "Abcdfe2A354A32A\n"
     ]
    }
   ],
   "source": [
    "#029 replace 메서드\n",
    "string = 'abcdfe2a354a32a'\n",
    "string = string.replace(\"a\", \"A\")\n",
    "print(string)"
   ]
  },
  {
   "cell_type": "code",
   "execution_count": 68,
   "id": "e3be838d-0624-428b-8a6f-e39b3010934a",
   "metadata": {},
   "outputs": [
    {
     "name": "stdout",
     "output_type": "stream",
     "text": [
      "abcd\n"
     ]
    }
   ],
   "source": [
    "#030 replace 메서드\n",
    "string = 'abcd'\n",
    "string.replace('b', 'B')\n",
    "print(string)"
   ]
  },
  {
   "cell_type": "markdown",
   "id": "f82e103c-8687-40cf-bc9b-f63cc9334d88",
   "metadata": {},
   "source": [
    "문자열은 변경할 수 없는 자료형 / 왼쪽에 지정된 변수가 없어서 결과가 그대로 출력됨"
   ]
  },
  {
   "cell_type": "code",
   "execution_count": 69,
   "id": "d9533c4a-0984-4e6f-96d0-b23330ba1be1",
   "metadata": {},
   "outputs": [
    {
     "name": "stdout",
     "output_type": "stream",
     "text": [
      "34\n"
     ]
    }
   ],
   "source": [
    "#031 문자열 합치기\n",
    "a = \"3\"\n",
    "b = \"4\"\n",
    "print(a + b)"
   ]
  },
  {
   "cell_type": "code",
   "execution_count": 70,
   "id": "7df9f3a8-9f66-4c2f-992a-79127c1b5d27",
   "metadata": {},
   "outputs": [
    {
     "name": "stdout",
     "output_type": "stream",
     "text": [
      "HiHiHi\n"
     ]
    }
   ],
   "source": [
    "#032 문자열 곱하기\n",
    "print(\"Hi\" * 3)"
   ]
  },
  {
   "cell_type": "code",
   "execution_count": 71,
   "id": "d1f99a03-09e6-4785-b3dd-9a9f0b732795",
   "metadata": {},
   "outputs": [
    {
     "name": "stdout",
     "output_type": "stream",
     "text": [
      "--------------------------------------------------------------------------------\n"
     ]
    }
   ],
   "source": [
    "#033 문자열 곱하기 '-'를 80개 출력하세요.\n",
    "print(\"-\"*80)"
   ]
  },
  {
   "cell_type": "code",
   "execution_count": 73,
   "id": "58097083-459d-4a09-943d-9031d202b8ab",
   "metadata": {},
   "outputs": [
    {
     "name": "stdout",
     "output_type": "stream",
     "text": [
      "pythonjavapythonjavapythonjavapythonjava\n"
     ]
    }
   ],
   "source": [
    "#034 문자열 곱하기\n",
    "t1 = 'python'\n",
    "t2 = 'java'\n",
    "print((t1 + t2)*4)"
   ]
  },
  {
   "cell_type": "code",
   "execution_count": 74,
   "id": "a95ae22c-0e63-439e-b35c-c8512165fd3c",
   "metadata": {},
   "outputs": [
    {
     "name": "stdout",
     "output_type": "stream",
     "text": [
      "python java python java python java python java \n"
     ]
    }
   ],
   "source": [
    "t1 = \"python\"\n",
    "t2 = \"java\"\n",
    "t3 = t1 + ' ' + t2 + ' '\n",
    "print(t3 * 4)"
   ]
  },
  {
   "cell_type": "code",
   "execution_count": null,
   "id": "5e215ba8-2ccc-45c6-bf97-4aa9d95ff284",
   "metadata": {},
   "outputs": [],
   "source": [
    "##035 문자열 출력\n",
    "name1 = \"김민수\" \n",
    "age1 = 10\n",
    "name2 = \"이철희\"\n",
    "age2 = 13"
   ]
  },
  {
   "cell_type": "code",
   "execution_count": 75,
   "id": "f51f6a49-8e11-40b4-aa29-4d2b5853910a",
   "metadata": {},
   "outputs": [
    {
     "name": "stdout",
     "output_type": "stream",
     "text": [
      "이름: 김민수 나이: 10\n",
      "이름: 이철희 나이: 13\n"
     ]
    }
   ],
   "source": [
    "name1 = \"김민수\" \n",
    "age1 = 10\n",
    "name2 = \"이철희\"\n",
    "age2 = 13\n",
    "print(\"이름: %s 나이: %d\" % (name1, age1))\n",
    "print(\"이름: %s 나이: %d\" % (name2, age2))"
   ]
  },
  {
   "cell_type": "code",
   "execution_count": 76,
   "id": "daab8b14-5323-4da4-be2b-cb0bf973468f",
   "metadata": {},
   "outputs": [
    {
     "name": "stdout",
     "output_type": "stream",
     "text": [
      "이름: 김민수 나이: 10\n",
      "이름: 이철희 나이: 13\n"
     ]
    }
   ],
   "source": [
    "##036 문자열 출력\n",
    "name1 = \"김민수\" \n",
    "age1 = 10\n",
    "name2 = \"이철희\"\n",
    "age2 = 13\n",
    "print(\"이름: {} 나이: {}\".format(name1, age1))\n",
    "print(\"이름: {} 나이: {}\".format(name2, age2))\n"
   ]
  },
  {
   "cell_type": "code",
   "execution_count": 79,
   "id": "2f1008b0-338a-4561-a120-13a4692818eb",
   "metadata": {},
   "outputs": [
    {
     "name": "stdout",
     "output_type": "stream",
     "text": [
      "이름: 김민수, 나이: 10\n",
      "이름: 이철희, 나이: 13\n"
     ]
    }
   ],
   "source": [
    "#037 문자열 출력\n",
    "#f-string  문자열 앞에 f를 붙여서 생성\n",
    "name1 = \"김민수\" \n",
    "age1 = 10\n",
    "name2 = \"이철희\"\n",
    "age2 = 13\n",
    "print(f\"이름: {name1}, 나이: {age1}\")\n",
    "print(f\"이름: {name2}, 나이: {age2}\")"
   ]
  },
  {
   "cell_type": "code",
   "execution_count": 81,
   "id": "743c3d03-b770-4412-a1f4-1b7119855041",
   "metadata": {},
   "outputs": [
    {
     "ename": "ValueError",
     "evalue": "invalid literal for int() with base 10: '5,969,782,550'",
     "output_type": "error",
     "traceback": [
      "\u001b[1;31m---------------------------------------------------------------------------\u001b[0m",
      "\u001b[1;31mValueError\u001b[0m                                Traceback (most recent call last)",
      "Cell \u001b[1;32mIn[81], line 4\u001b[0m\n\u001b[0;32m      2\u001b[0m 상장주식수 \u001b[38;5;241m=\u001b[39m \u001b[38;5;124m\"\u001b[39m\u001b[38;5;124m5,969,782,550\u001b[39m\u001b[38;5;124m\"\u001b[39m\n\u001b[0;32m      3\u001b[0m 상장주식수 \u001b[38;5;241m=\u001b[39m 상장주식수\u001b[38;5;241m.\u001b[39mreplace(\u001b[38;5;124m\"\u001b[39m\u001b[38;5;124m,\u001b[39m\u001b[38;5;124m\"\u001b[39m, \u001b[38;5;124m\"\u001b[39m\u001b[38;5;124m\"\u001b[39m)\n\u001b[1;32m----> 4\u001b[0m num\u001b[38;5;241m.\u001b[39m상장주식수 \u001b[38;5;241m=\u001b[39m \u001b[38;5;28mint\u001b[39m(\u001b[38;5;124m\"\u001b[39m\u001b[38;5;124m5,969,782,550\u001b[39m\u001b[38;5;124m\"\u001b[39m)\n\u001b[0;32m      5\u001b[0m \u001b[38;5;28mprint\u001b[39m(\u001b[38;5;28mtype\u001b[39m(\u001b[38;5;28mint\u001b[39m))\n",
      "\u001b[1;31mValueError\u001b[0m: invalid literal for int() with base 10: '5,969,782,550'"
     ]
    }
   ],
   "source": [
    "#038 컴마 제거하기\n",
    "상장주식수 = \"5,969,782,550\"\n",
    "상장주식수 = 상장주식수.replace(\",\", \"\")\n",
    "num.상장주식수 = int(\"5,969,782,550\")\n",
    "print(type(int))"
   ]
  },
  {
   "cell_type": "code",
   "execution_count": 83,
   "id": "6be1701d-e269-4b70-b83a-c5c8e015a694",
   "metadata": {},
   "outputs": [
    {
     "name": "stdout",
     "output_type": "stream",
     "text": [
      "5969782550 <class 'int'>\n"
     ]
    }
   ],
   "source": [
    "상장주식수 = \"5,969,782,550\"\n",
    "컴마제거 = 상장주식수.replace(\",\", \"\")\n",
    "타입변환 = int(\"5969782550\")\n",
    "print(타입변환,type(타입변환))"
   ]
  },
  {
   "cell_type": "code",
   "execution_count": 86,
   "id": "6b89b8a4-33f1-470d-b7e2-e538b5d69d7c",
   "metadata": {},
   "outputs": [],
   "source": [
    "#039 문자열 슬라이싱\n",
    "분기 = \"2020/03(E) (IFRS연결)\"\n",
    "print = (분기[0:8])"
   ]
  },
  {
   "cell_type": "code",
   "execution_count": 92,
   "id": "018ebc5c-02be-422d-a47c-26bbfd295a2b",
   "metadata": {},
   "outputs": [
    {
     "ename": "TypeError",
     "evalue": "'str' object is not callable",
     "output_type": "error",
     "traceback": [
      "\u001b[1;31m---------------------------------------------------------------------------\u001b[0m",
      "\u001b[1;31mTypeError\u001b[0m                                 Traceback (most recent call last)",
      "Cell \u001b[1;32mIn[92], line 2\u001b[0m\n\u001b[0;32m      1\u001b[0m 분기 \u001b[38;5;241m=\u001b[39m \u001b[38;5;124m\"\u001b[39m\u001b[38;5;124m2020/03(E) (IFRS연결)\u001b[39m\u001b[38;5;124m\"\u001b[39m\n\u001b[1;32m----> 2\u001b[0m \u001b[38;5;28mprint\u001b[39m(분기[:\u001b[38;5;241m7\u001b[39m])\n",
      "\u001b[1;31mTypeError\u001b[0m: 'str' object is not callable"
     ]
    }
   ],
   "source": [
    "분기 = \"2020/03(E) (IFRS연결)\"\n",
    "print(분기[:7])"
   ]
  },
  {
   "cell_type": "markdown",
   "id": "9a88f825-c409-46fb-ae83-d5cce60d3a76",
   "metadata": {},
   "source": [
    "하나의 글자 가져오기: 인덱싱 / 하나 이상: 슬라이딩"
   ]
  },
  {
   "cell_type": "code",
   "execution_count": 89,
   "id": "aca2ec19-4a8e-484f-9fbc-c6ce52b1a516",
   "metadata": {},
   "outputs": [
    {
     "name": "stdout",
     "output_type": "stream",
     "text": [
      "Object `del` not found.\n"
     ]
    }
   ],
   "source": [
    "#040 strip 메서드\n",
    "data = \"   삼성전자    \"\n",
    "data = .delete \""
   ]
  },
  {
   "cell_type": "code",
   "execution_count": 90,
   "id": "ec79a87b-5653-4f23-8ac1-443acf6169e2",
   "metadata": {},
   "outputs": [
    {
     "ename": "TypeError",
     "evalue": "'str' object is not callable",
     "output_type": "error",
     "traceback": [
      "\u001b[1;31m---------------------------------------------------------------------------\u001b[0m",
      "\u001b[1;31mTypeError\u001b[0m                                 Traceback (most recent call last)",
      "Cell \u001b[1;32mIn[90], line 3\u001b[0m\n\u001b[0;32m      1\u001b[0m data \u001b[38;5;241m=\u001b[39m \u001b[38;5;124m\"\u001b[39m\u001b[38;5;124m   삼성전자    \u001b[39m\u001b[38;5;124m\"\u001b[39m\n\u001b[0;32m      2\u001b[0m data1 \u001b[38;5;241m=\u001b[39m data\u001b[38;5;241m.\u001b[39mstrip()\n\u001b[1;32m----> 3\u001b[0m \u001b[38;5;28mprint\u001b[39m(data1)\n",
      "\u001b[1;31mTypeError\u001b[0m: 'str' object is not callable"
     ]
    }
   ],
   "source": [
    "data = \"   삼성전자    \"\n",
    "data1 = data.strip()\n",
    "print(data1)"
   ]
  },
  {
   "cell_type": "markdown",
   "id": "3cd824e7-889b-440a-a798-c0a2bd81ba30",
   "metadata": {},
   "source": [
    "문자열에서 strip( ) 메서드를 사용하면 좌우의 공백을 제거"
   ]
  },
  {
   "cell_type": "code",
   "execution_count": null,
   "id": "2a0cfd3b-3a6b-4900-b511-d5aa37639d68",
   "metadata": {},
   "outputs": [],
   "source": []
  },
  {
   "cell_type": "code",
   "execution_count": null,
   "id": "08cf7cec-c2b2-4297-9ef7-c65d71eeb4e9",
   "metadata": {},
   "outputs": [],
   "source": []
  },
  {
   "cell_type": "code",
   "execution_count": null,
   "id": "9b2044e9-92b2-4e88-bcd2-d37be9cd54bb",
   "metadata": {},
   "outputs": [],
   "source": []
  },
  {
   "cell_type": "markdown",
   "id": "e3971136-e2c6-4029-80cb-87816c799a2d",
   "metadata": {},
   "source": [
    "```\n",
    "#101 파이썬에서 True 혹은 False를 갖는 데이터 타입은 무엇인가?\n",
    "str 타입 -> `bool` 타입\n",
    "bool 타입으로 유효한 값은 True와 False\n",
    "```"
   ]
  },
  {
   "cell_type": "code",
   "execution_count": 1,
   "id": "50742045-7524-4779-b329-5257a9ce52e7",
   "metadata": {},
   "outputs": [
    {
     "name": "stdout",
     "output_type": "stream",
     "text": [
      "False\n"
     ]
    }
   ],
   "source": [
    "#102 아래 코드의 출력 결과를 예상하라\n",
    "print(3 == 5)"
   ]
  },
  {
   "cell_type": "code",
   "execution_count": 2,
   "id": "b86eafcb-f3fa-4a2b-a712-cd18b7ffccf8",
   "metadata": {},
   "outputs": [
    {
     "name": "stdout",
     "output_type": "stream",
     "text": [
      "True\n"
     ]
    }
   ],
   "source": [
    "#103 아래 코드의 출력 결과를 예상하라 (true)\n",
    "print(3 < 5) "
   ]
  },
  {
   "cell_type": "code",
   "execution_count": 3,
   "id": "58cea2ee-a078-4a46-931c-3111d19ccd09",
   "metadata": {},
   "outputs": [
    {
     "name": "stdout",
     "output_type": "stream",
     "text": [
      "True\n"
     ]
    }
   ],
   "source": [
    "#104 아래 코드의 결과를 예상하라. (true)\n",
    "x = 4\n",
    "print(1 < x < 5)"
   ]
  },
  {
   "cell_type": "code",
   "execution_count": 5,
   "id": "b1820dfd-8c54-4c08-894a-e2e15fc226c5",
   "metadata": {},
   "outputs": [
    {
     "name": "stdout",
     "output_type": "stream",
     "text": [
      "True\n"
     ]
    }
   ],
   "source": [
    "#105 아래 코드의 결과를 예상하라. (true)\n",
    "print ((3 == 3) and (4 != 3))\n",
    "# != x와 y가 같지 않다"
   ]
  },
  {
   "cell_type": "code",
   "execution_count": 6,
   "id": "86e599e1-398a-476f-b4ec-7c6f3a07e110",
   "metadata": {},
   "outputs": [
    {
     "ename": "SyntaxError",
     "evalue": "expression cannot contain assignment, perhaps you meant \"==\"? (3284061006.py, line 2)",
     "output_type": "error",
     "traceback": [
      "\u001b[1;36m  Cell \u001b[1;32mIn[6], line 2\u001b[1;36m\u001b[0m\n\u001b[1;33m    print(3 => 4)\u001b[0m\n\u001b[1;37m          ^\u001b[0m\n\u001b[1;31mSyntaxError\u001b[0m\u001b[1;31m:\u001b[0m expression cannot contain assignment, perhaps you meant \"==\"?\n"
     ]
    }
   ],
   "source": [
    "#106 아래 코드에서 에러가 발생하는 원인에 대해 설명하라. (3은 4보다 작음)\n",
    "print(3 => 4)"
   ]
  },
  {
   "cell_type": "markdown",
   "id": "7fad4a24-7e6a-4475-87f8-ae72d31dc099",
   "metadata": {},
   "source": [
    "지원하지 않는 연산자임"
   ]
  },
  {
   "cell_type": "code",
   "execution_count": 8,
   "id": "7a1bba5d-cf0c-4bdf-a64a-6f9277457160",
   "metadata": {},
   "outputs": [],
   "source": [
    "#107 아래 코드의 출력 결과를 예상하라 (Hello World)\n",
    "\n",
    "if 4 < 3:\n",
    "    print(\"Hello World\")"
   ]
  },
  {
   "cell_type": "markdown",
   "id": "84f1bcac-2226-4f84-990f-6ee16333ee75",
   "metadata": {},
   "source": [
    "```\n",
    "조건을 만족하지 않기 때문에 아무 결과도 출력되지 않음\n",
    "코딩 결과가 항상 나오는 것이 아님 기억하기\n",
    "```"
   ]
  },
  {
   "cell_type": "code",
   "execution_count": 9,
   "id": "63871ec1-291e-445d-bb88-bed49f2e7d19",
   "metadata": {},
   "outputs": [
    {
     "name": "stdout",
     "output_type": "stream",
     "text": [
      "Hi, there.\n"
     ]
    }
   ],
   "source": [
    "#108 아래 코드의 출력 결과를 예상하라 (아닐 경우가 나옴)\n",
    "\n",
    "if 4 < 3:\n",
    "    print(\"Hello World.\")\n",
    "else:\n",
    "    print(\"Hi, there.\")"
   ]
  },
  {
   "cell_type": "code",
   "execution_count": 11,
   "id": "8e421080-ff1f-4e47-84bf-b162aa52b064",
   "metadata": {},
   "outputs": [
    {
     "name": "stdout",
     "output_type": "stream",
     "text": [
      "1\n",
      "2\n",
      "4\n"
     ]
    }
   ],
   "source": [
    "##109 아래 코드의 출력 결과를 예상하라 (4)\n",
    "\n",
    "if True :\n",
    "    print (\"1\")\n",
    "    print (\"2\")\n",
    "else :\n",
    "    print(\"3\")\n",
    "print(\"4\")"
   ]
  },
  {
   "cell_type": "code",
   "execution_count": 13,
   "id": "7ab64d27-e0d5-4201-b394-b2ba49ba7db7",
   "metadata": {},
   "outputs": [
    {
     "name": "stdout",
     "output_type": "stream",
     "text": [
      "3\n",
      "5\n"
     ]
    }
   ],
   "source": [
    "##110 아래 코드의 출력 결과를 예상하라 (4 / 5)\n",
    "\n",
    "if True :\n",
    "    if False:\n",
    "        print(\"1\")\n",
    "        print(\"2\")\n",
    "    else:\n",
    "        print(\"3\")\n",
    "else :\n",
    "    print(\"4\")\n",
    "print(\"5\")"
   ]
  },
  {
   "cell_type": "markdown",
   "id": "4b444d7e-9963-4193-8e8c-2bd49d62a88a",
   "metadata": {},
   "source": [
    "```\n",
    "항상 위에서 아래로 수행되고\n",
    "들여쓰기 된 부분끼리 한 단락 / 끝나는 부분 파악 가능\n",
    "```"
   ]
  },
  {
   "cell_type": "code",
   "execution_count": 1,
   "id": "a971b82d-20a0-4230-ac62-b891d11fe89e",
   "metadata": {},
   "outputs": [
    {
     "name": "stdout",
     "output_type": "stream",
     "text": [
      "안녕하세요\n"
     ]
    },
    {
     "ename": "TypeError",
     "evalue": "unsupported operand type(s) for *: 'NoneType' and 'int'",
     "output_type": "error",
     "traceback": [
      "\u001b[1;31m---------------------------------------------------------------------------\u001b[0m",
      "\u001b[1;31mTypeError\u001b[0m                                 Traceback (most recent call last)",
      "Cell \u001b[1;32mIn[1], line 2\u001b[0m\n\u001b[0;32m      1\u001b[0m \u001b[38;5;66;03m#111 사용자로부터 입력받은 문자열을 두 번 출력하라. 아래는 사용자가 \"안녕하세요\"를 입력한 경우의 출력 결과이다.\u001b[39;00m\n\u001b[1;32m----> 2\u001b[0m \u001b[38;5;28mprint\u001b[39m (\u001b[38;5;124m\"\u001b[39m\u001b[38;5;124m안녕하세요\u001b[39m\u001b[38;5;124m\"\u001b[39m) \u001b[38;5;241m*\u001b[39m\u001b[38;5;241m2\u001b[39m\n",
      "\u001b[1;31mTypeError\u001b[0m: unsupported operand type(s) for *: 'NoneType' and 'int'"
     ]
    }
   ],
   "source": [
    "#111 사용자로부터 입력받은 문자열을 두 번 출력하라. 아래는 사용자가 \"안녕하세요\"를 입력한 경우의 출력 결과이다.\n",
    "print (\"안녕하세요\") *2"
   ]
  },
  {
   "cell_type": "code",
   "execution_count": 2,
   "id": "15f42229-3102-44da-9d8d-4b9f49c5ec46",
   "metadata": {},
   "outputs": [
    {
     "name": "stdin",
     "output_type": "stream",
     "text": [
      "안녕하세요 안녕하세요\n"
     ]
    },
    {
     "name": "stdout",
     "output_type": "stream",
     "text": [
      "안녕하세요안녕하세요\n"
     ]
    }
   ],
   "source": [
    "user = input(\"안녕하세요\")\n",
    "print(user * 2)"
   ]
  },
  {
   "cell_type": "code",
   "execution_count": 3,
   "id": "d8b3da2b-4988-4fdc-a34c-9f2348c0e277",
   "metadata": {},
   "outputs": [
    {
     "name": "stdin",
     "output_type": "stream",
     "text": [
      "입력: 안녕하세요\n"
     ]
    },
    {
     "name": "stdout",
     "output_type": "stream",
     "text": [
      "안녕하세요안녕하세요\n"
     ]
    }
   ],
   "source": [
    "user = input(\"입력:\")\n",
    "print(user * 2)"
   ]
  },
  {
   "cell_type": "code",
   "execution_count": 5,
   "id": "73b23d07-af55-4355-ab0a-d20c54efed32",
   "metadata": {},
   "outputs": [
    {
     "name": "stdin",
     "output_type": "stream",
     "text": [
      "int: 10\n"
     ]
    },
    {
     "ename": "TypeError",
     "evalue": "can only concatenate str (not \"int\") to str",
     "output_type": "error",
     "traceback": [
      "\u001b[1;31m---------------------------------------------------------------------------\u001b[0m",
      "\u001b[1;31mTypeError\u001b[0m                                 Traceback (most recent call last)",
      "Cell \u001b[1;32mIn[5], line 3\u001b[0m\n\u001b[0;32m      1\u001b[0m \u001b[38;5;66;03m#112 사용자로부터 하나의 숫자를 입력받고, 입력 받은 숫자에 10을 더해 출력하라.\u001b[39;00m\n\u001b[0;32m      2\u001b[0m user \u001b[38;5;241m=\u001b[39m \u001b[38;5;28minput\u001b[39m(\u001b[38;5;124m\"\u001b[39m\u001b[38;5;124mint:\u001b[39m\u001b[38;5;124m\"\u001b[39m)\n\u001b[1;32m----> 3\u001b[0m \u001b[38;5;28mprint\u001b[39m(user \u001b[38;5;241m+\u001b[39m\u001b[38;5;241m10\u001b[39m)\n",
      "\u001b[1;31mTypeError\u001b[0m: can only concatenate str (not \"int\") to str"
     ]
    }
   ],
   "source": [
    "#112 사용자로부터 하나의 숫자를 입력받고, 입력 받은 숫자에 10을 더해 출력하라.\n",
    "user = input(\"int:\")\n",
    "print(user +10)"
   ]
  },
  {
   "cell_type": "code",
   "execution_count": 6,
   "id": "ffec7738-58ec-404e-a2de-59c69f12a38d",
   "metadata": {},
   "outputs": [
    {
     "name": "stdin",
     "output_type": "stream",
     "text": [
      "숫자를 입력하세요:  10\n"
     ]
    },
    {
     "name": "stdout",
     "output_type": "stream",
     "text": [
      "20\n"
     ]
    }
   ],
   "source": [
    "user = input(\"숫자를 입력하세요: \")\n",
    "print(10 + int(user))"
   ]
  },
  {
   "cell_type": "code",
   "execution_count": 8,
   "id": "9da0b5a7-4334-45c8-a2b3-52de238bf3f7",
   "metadata": {},
   "outputs": [
    {
     "name": "stdin",
     "output_type": "stream",
     "text": [
      " 2\n"
     ]
    },
    {
     "name": "stdout",
     "output_type": "stream",
     "text": [
      "짝수\n"
     ]
    }
   ],
   "source": [
    "#113 사용자로부터 하나의 숫자를 입력 받고 짝수/홀수를 판별하라.\n",
    "user = input(\"\")\n",
    "if int(user) %2 == 0:\n",
    "    print (\"짝수\")\n",
    "\n",
    "else:\n",
    "    print (\"홀수\")"
   ]
  },
  {
   "cell_type": "code",
   "execution_count": 13,
   "id": "fa1b213a-871a-43a5-8c0b-24c5872a9e2e",
   "metadata": {},
   "outputs": [
    {
     "name": "stdin",
     "output_type": "stream",
     "text": [
      " 200\n"
     ]
    },
    {
     "name": "stdout",
     "output_type": "stream",
     "text": [
      "220\n"
     ]
    }
   ],
   "source": [
    "#114 사용자로부터 값을 입력받은 후 해당 값에 20을 더한 값을 출력하라. 단 사용자가 입력한 값과 20을 더한 계산 값이 255를 초과하는 경우 255를 출력해야 한다\n",
    "user = input (\"\")\n",
    "if int(user) <= 255:\n",
    "    print (int(user) +20)\n",
    "    \n",
    "else:\n",
    "    print (\"255\")\n",
    "    "
   ]
  },
  {
   "cell_type": "code",
   "execution_count": 14,
   "id": "743610f9-2e35-49f3-ae82-6aa8368c61d6",
   "metadata": {},
   "outputs": [
    {
     "name": "stdin",
     "output_type": "stream",
     "text": [
      " 240\n"
     ]
    },
    {
     "name": "stdout",
     "output_type": "stream",
     "text": [
      "260\n"
     ]
    }
   ],
   "source": [
    "user = input (\"\")\n",
    "if int(user) <= 255:\n",
    "    print (int(user) +20)\n",
    "    \n",
    "else:\n",
    "    print (\"255\")"
   ]
  },
  {
   "cell_type": "code",
   "execution_count": 16,
   "id": "f90c70c3-b7c9-488c-940c-351ac38d0b2e",
   "metadata": {},
   "outputs": [
    {
     "name": "stdin",
     "output_type": "stream",
     "text": [
      "입력값:  5\n"
     ]
    },
    {
     "name": "stdout",
     "output_type": "stream",
     "text": [
      "25\n"
     ]
    }
   ],
   "source": [
    "##\n",
    "user = input(\"입력값: \")\n",
    "num = 20 + int(user)\n",
    "if num > 255:\n",
    "    print(255)\n",
    "else:\n",
    "    print(num)"
   ]
  },
  {
   "cell_type": "code",
   "execution_count": 30,
   "id": "ab723389-c916-48c2-b39f-514410478e1a",
   "metadata": {},
   "outputs": [
    {
     "name": "stdin",
     "output_type": "stream",
     "text": [
      "입력값:  0\n"
     ]
    },
    {
     "name": "stdout",
     "output_type": "stream",
     "text": [
      "0\n"
     ]
    }
   ],
   "source": [
    "#115 사용자로부터 하나의 값을 입력받은 후 해당 값에 20을 뺀 값을 출력하라. 단 출력 값의 범위는 0~255이다. \n",
    "#예를 들어 결괏값이 0보다 작은 값이되는 경우 0을 출력하고 255보다 큰 값이 되는 경우 255를 출력해야 한다.\n",
    "\n",
    "user = input(\"입력값: \")\n",
    "num = int(user) - 20\n",
    "if num > 255:\n",
    "    print (255)\n",
    "elif num < 0:\n",
    "    print (0)\n",
    "else:\n",
    "    print (num)"
   ]
  },
  {
   "cell_type": "code",
   "execution_count": 18,
   "id": "74437753-1cb6-48f3-b0cb-7cb06e34e38c",
   "metadata": {},
   "outputs": [
    {
     "name": "stdin",
     "output_type": "stream",
     "text": [
      "현재시간  07:00\n"
     ]
    },
    {
     "name": "stdout",
     "output_type": "stream",
     "text": [
      "정각입니다.\n"
     ]
    }
   ],
   "source": [
    "#116 사용자로부터 입력 받은 시간이 정각인지 판별하라.\n",
    "\n",
    "time = input(\"현재시간 \")\n",
    "if time[-2:] == \"00\" :\n",
    "    print(\"정각입니다.\")\n",
    "\n",
    "else:\n",
    "    print(\"정각이 아닙니다.\")"
   ]
  },
  {
   "cell_type": "code",
   "execution_count": 25,
   "id": "12ed6e1f-5705-4905-980d-5610c4acf3c2",
   "metadata": {},
   "outputs": [
    {
     "name": "stdin",
     "output_type": "stream",
     "text": [
      "좋아하는 과일은?  포도\n"
     ]
    },
    {
     "name": "stdout",
     "output_type": "stream",
     "text": [
      "정답입니다.\n"
     ]
    }
   ],
   "source": [
    "#117 사용자로 입력받은 단어가 아래 fruit 리스트에 포함되어 있는지를 확인하라. 포함되었다면 \"정답입니다\"를 아닐 경우 \"오답입니다\" 출력하라.\n",
    "\n",
    "fruit = [\"사과\", \"포도\", \"홍시\"]\n",
    "user = input(\"좋아하는 과일은? \")\n",
    "\n",
    "if user in fruit:\n",
    "    print(\"정답입니다.\")\n",
    "else:\n",
    "     print(\"오답입니다.\")"
   ]
  },
  {
   "cell_type": "code",
   "execution_count": 28,
   "id": "8c22f8e4-d17b-40ea-9c39-9a55c90651df",
   "metadata": {},
   "outputs": [
    {
     "name": "stdin",
     "output_type": "stream",
     "text": [
      "종목 확인:  LG\n"
     ]
    },
    {
     "name": "stdout",
     "output_type": "stream",
     "text": [
      "투자 경고 종목입니다.\n"
     ]
    }
   ],
   "source": [
    "#118 투자 경고 종목 리스트가 있을 때 사용자로부터 종목명을 입력 받은 후 해당 종목이 투자 경고 종목이라면 '투자 경고 종목입니다'를 아니면 \"투자 경고 종목이 아닙니다.\"를 출력하는 프로그램을 작성하라.\n",
    "\n",
    "warn_investment_list = [\"Microsoft\", \"Google\", \"Naver\", \"Kakao\", \"SAMSUNG\", \"LG\"]\n",
    "user = input(\"종목 확인: \")\n",
    "\n",
    "if user in warn_investment_list:\n",
    "    print(\"투자 경고 종목입니다.\")\n",
    "else:\n",
    "     print(\"투자 경고 종목이 아닙니다.\")"
   ]
  },
  {
   "cell_type": "code",
   "execution_count": 31,
   "id": "d039e3ca-09ae-4fe8-b6a3-c82e0462192e",
   "metadata": {},
   "outputs": [
    {
     "name": "stdin",
     "output_type": "stream",
     "text": [
      "제가좋아하는계절은  봄\n"
     ]
    },
    {
     "name": "stdout",
     "output_type": "stream",
     "text": [
      "정답입니다.\n"
     ]
    }
   ],
   "source": [
    "#119 아래와 같이 fruit 딕셔너리가 정의되어 있다. 사용자가 입력한 값이 딕셔너리 키 (key) 값에 포함되었다면 \"정답입니다\"를 아닐 경우 \"오답입니다\" 출력하라.\n",
    "\n",
    "fruit = {\"봄\" : \"딸기\", \"여름\" : \"토마토\", \"가을\" : \"사과\"}\n",
    "user = user = input(\"제가좋아하는계절은 \")\n",
    "\n",
    "if user in fruit:\n",
    "    print(\"정답입니다.\")\n",
    "else:\n",
    "     print(\"정답이 아닙니다.\")"
   ]
  },
  {
   "cell_type": "code",
   "execution_count": 32,
   "id": "4d4c6516-146c-4cf8-84fa-b4bfe8ae7b5f",
   "metadata": {},
   "outputs": [
    {
     "name": "stdin",
     "output_type": "stream",
     "text": [
      "좋아하는과일은?  한라봉\n"
     ]
    },
    {
     "name": "stdout",
     "output_type": "stream",
     "text": [
      "정답이 아닙니다.\n"
     ]
    }
   ],
   "source": [
    "#120 아래와 같이 fruit 딕셔너리가 정의되어 있다. 사용자가 입력한 값이 딕셔너리 값 (value)에 포함되었다면 \"정답입니다\"를 아닐 경우 \"오답입니다\" 출력하라.\n",
    "\n",
    "fruit = {\"봄\" : \"딸기\", \"여름\" : \"토마토\", \"가을\" : \"사과\"}\n",
    "user = user = input(\"좋아하는과일은? \")\n",
    "\n",
    "if user in fruit:\n",
    "    print(\"정답입니다.\")\n",
    "else:\n",
    "     print(\"정답이 아닙니다.\")"
   ]
  },
  {
   "cell_type": "code",
   "execution_count": 33,
   "id": "2d07088f-3c04-4bc4-ab2f-996d1a4e6f48",
   "metadata": {},
   "outputs": [
    {
     "name": "stdin",
     "output_type": "stream",
     "text": [
      " a\n"
     ]
    },
    {
     "name": "stdout",
     "output_type": "stream",
     "text": [
      "A\n"
     ]
    }
   ],
   "source": [
    "#121 사용자로부터 문자 한 개를 입력 받고, 소문자일 경우 대문자로, 대문자 일 경우, 소문자로 변경해서 출력하라.\n",
    "\n",
    "user = input(\"\")\n",
    "if user.islower():\n",
    "    print(user.upper())\n",
    "else:\n",
    "    print(user.lower())"
   ]
  },
  {
   "cell_type": "code",
   "execution_count": 34,
   "id": "b362d0a4-0d57-4cbe-84fc-37c723d5089a",
   "metadata": {},
   "outputs": [
    {
     "name": "stdin",
     "output_type": "stream",
     "text": [
      "score:  60\n"
     ]
    },
    {
     "name": "stdout",
     "output_type": "stream",
     "text": [
      "grade is C\n"
     ]
    }
   ],
   "source": [
    "#122 점수 구간에 해당하는 학점이 아래와 같이 정의되어 있다. 사용자로부터 score를 입력받아 학점을 출력하라.\n",
    "\n",
    "score = input(\"score: \")\n",
    "score = int(score)\n",
    "if 81 <= score <= 100:\n",
    "    print(\"grade is A\")\n",
    "elif 61 <= score <= 80:\n",
    "    print(\"grade is B\")\n",
    "elif 41 <= score <= 60:\n",
    "    print(\"grade is C\")\n",
    "elif 21 <= score <= 40:\n",
    "    print(\"grade is D\")\n",
    "else:\n",
    "    print(\"grade is E\")"
   ]
  },
  {
   "cell_type": "code",
   "execution_count": 39,
   "id": "3d415625-3034-4132-879a-934fa4b56170",
   "metadata": {},
   "outputs": [
    {
     "name": "stdin",
     "output_type": "stream",
     "text": [
      "입력:  100 달러\n"
     ]
    },
    {
     "name": "stdout",
     "output_type": "stream",
     "text": [
      "116700.0 원\n"
     ]
    }
   ],
   "source": [
    "#123 사용자로부터 달러, 엔, 유로, 또는 위안 금액을 입력받은 후 이를 원으로 변환하는 프로그램을 작성하라. 각 통화별 환율은 다음과 같다. 사용자는 100 달러, 1000 엔, 13 유로, 100 위안과 같이 금액과 통화명 사이에 공백을 넣어 입력한다고 가정한다.\n",
    "\n",
    "환율 = {\"달러\": 1167, \n",
    "        \"엔\": 1.096, \n",
    "        \"유로\": 1268, \n",
    "        \"위안\": 171}\n",
    "user = input(\"입력: \")\n",
    "num, currency = user.split()\n",
    "print(float(num) * 환율[currency], \"원\")"
   ]
  },
  {
   "cell_type": "code",
   "execution_count": 41,
   "id": "becc6b4b-7743-4868-a52f-df55a5781f60",
   "metadata": {},
   "outputs": [
    {
     "name": "stdin",
     "output_type": "stream",
     "text": [
      "input number1:  100\n",
      "input number2:  123\n",
      "input number3:  79\n"
     ]
    },
    {
     "name": "stdout",
     "output_type": "stream",
     "text": [
      "123\n"
     ]
    }
   ],
   "source": [
    "#124 사용자로부터 세 개의 숫자를 입력 받은 후 가장 큰 숫자를 출력하라.\n",
    "\n",
    "num1 = input(\"input number1: \")\n",
    "num2 = input(\"input number2: \")\n",
    "num3 = input(\"input number3: \")\n",
    "num1 = int(num1)\n",
    "num2 = int(num2)\n",
    "num3 = int(num3)\n",
    "\n",
    "if num1 >= num2 and num1 >= num3:\n",
    "    print(num1)\n",
    "elif num2 >= num1 and num2 >= num3:\n",
    "    print(num2)\n",
    "else:\n",
    "    print(num3)"
   ]
  },
  {
   "cell_type": "code",
   "execution_count": 44,
   "id": "0cdbee73-04cc-4887-a958-e0349b15b9d6",
   "metadata": {},
   "outputs": [
    {
     "name": "stdin",
     "output_type": "stream",
     "text": [
      "휴대전화 번호 입력:  019-1111-1234\n"
     ]
    },
    {
     "name": "stdout",
     "output_type": "stream",
     "text": [
      "당신은 LGU 사용자입니다.\n"
     ]
    }
   ],
   "source": [
    "#125 휴대폰 번호 앞자리에 따라 통신사는 아래와 같이 구분된다. 사용자로부터 휴대전화 번호를 입력 받고, 통신사를 출력하는 프로그램을 작성하라.\n",
    "\n",
    "number = input(\"휴대전화 번호 입력: \")\n",
    "num = number.split(\"-\")[0]\n",
    "if num == \"011\":\n",
    "    com = \"SKT\"\n",
    "elif num == \"016\":\n",
    "    com = \"KT\"\n",
    "elif num == \"019\":\n",
    "    com = \"LGU\"\n",
    "else:\n",
    "    com = \"알수없음\"\n",
    "print(f\"당신은 {com} 사용자입니다.\")"
   ]
  },
  {
   "cell_type": "code",
   "execution_count": 45,
   "id": "c3bd0547-8f6f-444b-8c5b-8d228b01a3ff",
   "metadata": {},
   "outputs": [
    {
     "name": "stdin",
     "output_type": "stream",
     "text": [
      "우편번호:  010\n"
     ]
    },
    {
     "name": "stdout",
     "output_type": "stream",
     "text": [
      "강북구\n"
     ]
    }
   ],
   "source": [
    "#126 우편번호는 5자리로 구성되는데, 앞의 세자리는 구를 나타낸다. 예를들어, 강북구의 경우 010, 011, 012 세 자리로 시작한다.\n",
    "\n",
    "우편번호 = input(\"우편번호: \")\n",
    "우편번호 = 우편번호[:3]\n",
    "if 우편번호 in [\"010\", \"011\", \"012\"]:\n",
    "    print(\"강북구\")\n",
    "elif 우편번호 in [\"014\", \"015\", \"016\"]:\n",
    "    print(\"도봉구\")\n",
    "else:\n",
    "    print(\"노원구\")"
   ]
  },
  {
   "cell_type": "code",
   "execution_count": 46,
   "id": "87d58dde-208c-4850-ba0c-05deb038b7b3",
   "metadata": {},
   "outputs": [
    {
     "name": "stdin",
     "output_type": "stream",
     "text": [
      "주민등록번호:  821010-1635210\n"
     ]
    },
    {
     "name": "stdout",
     "output_type": "stream",
     "text": [
      "남자\n"
     ]
    }
   ],
   "source": [
    "#127 주민등록번호 뒷 자리 7자리 중 첫째 자리는 성별을 나타내는데, 1, 3은 남자 2, 4는 여자를 의미한다. 사용자로부터 13자리의 주민등록번호를 입력 받은 후 성별 (남자, 여자)를 출력하는 프로그램을 작성하라.\n",
    "\n",
    "주민번호 = input(\"주민등록번호: \")\n",
    "주민번호 = 주민번호.split(\"-\")[1]\n",
    "if 주민번호[0] == \"1\" or 주민번호[0] == \"3\":\n",
    "    print(\"남자\")\n",
    "else:\n",
    "    print(\"여자\")"
   ]
  },
  {
   "cell_type": "code",
   "execution_count": 48,
   "id": "7b60783b-a9a0-4896-974f-53062beffb95",
   "metadata": {},
   "outputs": [
    {
     "name": "stdin",
     "output_type": "stream",
     "text": [
      "주민등록번호:  821010-1635210\n"
     ]
    },
    {
     "name": "stdout",
     "output_type": "stream",
     "text": [
      "서울이 아닙니다.\n"
     ]
    }
   ],
   "source": [
    "#128 주민등록번호의 뒷 자리 7자리 중 두번째와 세번째는 지역코드를 의미한다. 주민 등록 번호를 입력 받은 후 출생지가 서울인지 아닌지 판단하는 코드를 작성하라\n",
    "\n",
    "주민번호 = input(\"주민등록번호: \")\n",
    "뒷자리 = 주민번호.split(\"-\")[1]\n",
    "if 0 <= int(뒷자리[1:3]) <= 8:\n",
    "    print(\"서울입니다.\")\n",
    "else:\n",
    "    print(\"서울이 아닙니다.\")"
   ]
  },
  {
   "cell_type": "code",
   "execution_count": 50,
   "id": "e7515c07-732c-40fa-80a1-6925fd0ff122",
   "metadata": {},
   "outputs": [
    {
     "name": "stdin",
     "output_type": "stream",
     "text": [
      "주민등록번호:  821010-1635210\n"
     ]
    },
    {
     "name": "stdout",
     "output_type": "stream",
     "text": [
      "유효하지 않은 주민등록번호입니다.\n"
     ]
    }
   ],
   "source": [
    "##129 다음과 같이 사용자로부터 주민등록번호를 입력받은 후 주민등록번호가 유효한지를 출력하는 프로그램을 작성하라.\n",
    "\n",
    "num = input(\"주민등록번호: \")\n",
    "계산1 = int(num[0]) * 2 + int(num[1]) * 3 + int(num[2]) * 4 + int(num[3]) * 5 + int(num[4]) * 6 + \\\n",
    "        int(num[5]) * 7 + int(num[7]) * 8 + int(num[8]) * 9 + int(num[9]) * 2 + int(num[10])* 3 + \\\n",
    "        int(num[11])* 4 + int(num[12]) * 5\n",
    "계산2 = 11 - (계산1 % 11)\n",
    "계산3 = str(계산2)\n",
    "\n",
    "if num[-1] == 계산3[-1]:\n",
    "    print(\"유효한 주민등록번호입니다.\")\n",
    "else:\n",
    "    print(\"유효하지 않은 주민등록번호입니다.\")"
   ]
  },
  {
   "cell_type": "code",
   "execution_count": 52,
   "id": "2f1329c8-ddca-4ae6-9a7d-0bbe49679060",
   "metadata": {},
   "outputs": [
    {
     "name": "stdout",
     "output_type": "stream",
     "text": [
      "상승장\n"
     ]
    }
   ],
   "source": [
    "#130 아래 코드는 비트코인의 가격 정보를 딕셔너리로 가져오는 코드이다.\n",
    "\n",
    "import requests\n",
    "btc = requests.get(\"https://api.bithumb.com/public/ticker/\").json()['data']\n",
    "\n",
    "변동폭 = float(btc['max_price']) - float(btc['min_price'])\n",
    "시가 = float(btc['opening_price'])\n",
    "최고가 = float(btc['max_price'])\n",
    "\n",
    "if (시가+변동폭) > 최고가:\n",
    "    print(\"상승장\")\n",
    "else:\n",
    "    print(\"하락장\")"
   ]
  },
  {
   "cell_type": "code",
   "execution_count": 53,
   "id": "90e92dea-0402-4fd7-b68a-8e2c9813e8b4",
   "metadata": {},
   "outputs": [
    {
     "name": "stdout",
     "output_type": "stream",
     "text": [
      "사과\n",
      "귤\n",
      "수박\n"
     ]
    }
   ],
   "source": [
    "#131 for문의 실행결과를 예측하라.\n",
    "\n",
    "과일 = [\"사과\", \"귤\", \"수박\"]\n",
    "for 변수 in 과일:\n",
    "    print(변수)"
   ]
  },
  {
   "cell_type": "code",
   "execution_count": 54,
   "id": "1b74d326-58f7-4434-845d-41a87a79206e",
   "metadata": {},
   "outputs": [
    {
     "name": "stdout",
     "output_type": "stream",
     "text": [
      "#####\n",
      "#####\n",
      "#####\n"
     ]
    }
   ],
   "source": [
    "#132 for문의 실행결과를 예측하라. (####)\n",
    "\n",
    "과일 = [\"사과\", \"귤\", \"수박\"]\n",
    "for 변수 in 과일:\n",
    "  print(\"#####\")"
   ]
  },
  {
   "cell_type": "code",
   "execution_count": 55,
   "id": "64963802-7477-4408-83a3-60fdd47f0e87",
   "metadata": {},
   "outputs": [
    {
     "name": "stdout",
     "output_type": "stream",
     "text": [
      "A\n",
      "B\n",
      "C\n"
     ]
    }
   ],
   "source": [
    "#133 다음 for 문과 동일한 기능을 수행하는 코드를 작성하세요.\n",
    "\n",
    "for 변수 in [\"A\", \"B\", \"C\"]:\n",
    "  print(변수)"
   ]
  },
  {
   "cell_type": "code",
   "execution_count": 56,
   "id": "bed37104-6c64-475e-a533-1906aa49d727",
   "metadata": {},
   "outputs": [
    {
     "name": "stdout",
     "output_type": "stream",
     "text": [
      "출력: A\n",
      "출력: B\n",
      "출력: C\n"
     ]
    }
   ],
   "source": [
    "#134 for문을 풀어서 동일한 동작을하는 코드를 작성하라.\n",
    "\n",
    "for 변수 in [\"A\", \"B\", \"C\"]:\n",
    "  print(\"출력:\", 변수)"
   ]
  },
  {
   "cell_type": "code",
   "execution_count": 57,
   "id": "dba09bd8-bbd7-4091-8bb8-15225ea260c2",
   "metadata": {},
   "outputs": [
    {
     "name": "stdout",
     "output_type": "stream",
     "text": [
      "출력: A\n",
      "출력: B\n",
      "출력: C\n"
     ]
    }
   ],
   "source": [
    "print(\"출력:\", \"A\")\n",
    "print(\"출력:\", \"B\")\n",
    "print(\"출력:\", \"C\")"
   ]
  },
  {
   "cell_type": "code",
   "execution_count": 58,
   "id": "b81944c0-a2e3-4625-8d93-660cbf47d53b",
   "metadata": {},
   "outputs": [
    {
     "name": "stdout",
     "output_type": "stream",
     "text": [
      "변환: a\n",
      "변환: b\n",
      "변환: c\n"
     ]
    }
   ],
   "source": [
    "#135 for문을 풀어서 동일한 동작을 하는 코드를 작성하라.\n",
    "\n",
    "for 변수 in [\"A\", \"B\", \"C\"]:\n",
    "  b = 변수.lower()\n",
    "  print(\"변환:\", b)"
   ]
  },
  {
   "cell_type": "code",
   "execution_count": 59,
   "id": "72f65ef7-15f4-4a1b-b151-171e9b83e6bb",
   "metadata": {},
   "outputs": [
    {
     "name": "stdout",
     "output_type": "stream",
     "text": [
      "변환: A\n",
      "변환: B\n",
      "변환: C\n"
     ]
    }
   ],
   "source": [
    "print(\"변환:\", \"A\")\n",
    "print(\"변환:\", \"B\")\n",
    "print(\"변환:\", \"C\")"
   ]
  },
  {
   "cell_type": "code",
   "execution_count": 62,
   "id": "47645eed-990d-4079-b040-f8df66b904df",
   "metadata": {},
   "outputs": [
    {
     "name": "stdout",
     "output_type": "stream",
     "text": [
      "10\n",
      "20\n",
      "30\n"
     ]
    }
   ],
   "source": [
    "#136 다음 코드를 for문으로 작성하라.\n",
    "\n",
    "for 변수 in [\"10\", \"20\", \"30\"]:\n",
    "  print(변수)"
   ]
  },
  {
   "cell_type": "code",
   "execution_count": 61,
   "id": "8a469ce8-3266-4e24-9765-e7f2b986d5ad",
   "metadata": {},
   "outputs": [
    {
     "name": "stdout",
     "output_type": "stream",
     "text": [
      "10\n",
      "20\n",
      "30\n"
     ]
    }
   ],
   "source": [
    "변수 = 10\n",
    "print(변수)\n",
    "변수 = 20\n",
    "print(변수)\n",
    "변수 = 30\n",
    "print(변수)"
   ]
  },
  {
   "cell_type": "code",
   "execution_count": 63,
   "id": "a89c1fa6-2a07-4810-a57e-3c83da767117",
   "metadata": {},
   "outputs": [
    {
     "name": "stdout",
     "output_type": "stream",
     "text": [
      "10\n",
      "20\n",
      "30\n"
     ]
    }
   ],
   "source": [
    "#137 다음 코드를 for문으로 작성하라.\n",
    "\n",
    "print(10)\n",
    "print(20)\n",
    "print(30)"
   ]
  },
  {
   "cell_type": "code",
   "execution_count": 64,
   "id": "0b4b0126-4b22-4cc5-9464-5eef0cb30cd0",
   "metadata": {},
   "outputs": [
    {
     "name": "stdout",
     "output_type": "stream",
     "text": [
      "10\n",
      "20\n",
      "30\n"
     ]
    }
   ],
   "source": [
    "for 변수 in [\"10\", \"20\", \"30\"]:\n",
    "  print(변수)"
   ]
  },
  {
   "cell_type": "code",
   "execution_count": 65,
   "id": "eb327395-2cb7-49d5-9f98-9a8f88fab9e4",
   "metadata": {},
   "outputs": [
    {
     "name": "stdout",
     "output_type": "stream",
     "text": [
      "10\n",
      "-------\n",
      "20\n",
      "-------\n",
      "30\n",
      "-------\n"
     ]
    }
   ],
   "source": [
    "#138 다음 코드를 for문으로 작성하라.\n",
    "\n",
    "print(10)\n",
    "print(\"-------\")\n",
    "print(20)\n",
    "print(\"-------\")\n",
    "print(30)\n",
    "print(\"-------\")"
   ]
  },
  {
   "cell_type": "code",
   "execution_count": 66,
   "id": "ee3b63f2-cbbf-4539-a0f3-191d5f1f52bb",
   "metadata": {},
   "outputs": [
    {
     "name": "stdout",
     "output_type": "stream",
     "text": [
      "10\n",
      "-------\n",
      "20\n",
      "-------\n",
      "30\n",
      "-------\n"
     ]
    }
   ],
   "source": [
    "for 변수 in [\"10\",\"-------\", \"20\",\"-------\", \"30\", \"-------\"]:\n",
    "  print(변수)"
   ]
  },
  {
   "cell_type": "code",
   "execution_count": 67,
   "id": "29816f60-e6cc-4986-82fe-230941ff083a",
   "metadata": {},
   "outputs": [
    {
     "name": "stdout",
     "output_type": "stream",
     "text": [
      "++++\n",
      "10\n",
      "20\n",
      "30\n"
     ]
    }
   ],
   "source": [
    "#139 다음 코드를 for문으로 작성하라.\n",
    "\n",
    "print(\"++++\")\n",
    "print(10)\n",
    "print(20)\n",
    "print(30)"
   ]
  },
  {
   "cell_type": "code",
   "execution_count": 68,
   "id": "25d851b2-5a3f-49e9-ba48-b18e032d9f68",
   "metadata": {},
   "outputs": [
    {
     "name": "stdout",
     "output_type": "stream",
     "text": [
      "++++\n",
      "10\n",
      "20\n",
      "30\n"
     ]
    }
   ],
   "source": [
    "print(\"++++\")\n",
    "for 변수 in [10, 20, 30]:\n",
    "  print(변수)"
   ]
  },
  {
   "cell_type": "markdown",
   "id": "bf2664b1-c22a-4ce2-80dd-5b9607004b1a",
   "metadata": {},
   "source": [
    "```\n",
    "print(\"++++\")를 반복하고 싶다면, for문을 사용할 수 있지만 그 목적은 다름\n",
    "for문은 반복문으로, 리스트나 튜플과 같은 반복 가능한 객체의 요소들을 하나씩 순회하면서 특정 작업을 수행할 때 사용\n",
    "for i in range(3):  # 3번 반복\n",
    "    print(\"++++\")\n",
    "print(\"++++\")가 세 번 반복되어 출력됨\n",
    "```"
   ]
  },
  {
   "cell_type": "code",
   "execution_count": 69,
   "id": "892682c7-085a-43a5-a44b-09bfc85e9878",
   "metadata": {},
   "outputs": [
    {
     "name": "stdout",
     "output_type": "stream",
     "text": [
      "-------\n",
      "-------\n",
      "-------\n",
      "-------\n"
     ]
    }
   ],
   "source": [
    "#140 다음 코드를 for문으로 작성하라.\n",
    "print(\"-------\")\n",
    "print(\"-------\")\n",
    "print(\"-------\")\n",
    "print(\"-------\")"
   ]
  },
  {
   "cell_type": "code",
   "execution_count": 70,
   "id": "5ab7aca8-c5db-4452-825b-5f2fb1d66305",
   "metadata": {},
   "outputs": [
    {
     "name": "stdout",
     "output_type": "stream",
     "text": [
      "-------\n",
      "-------\n",
      "-------\n",
      "-------\n"
     ]
    }
   ],
   "source": [
    "for i in range(4): \n",
    "    print(\"-------\")"
   ]
  },
  {
   "cell_type": "code",
   "execution_count": 73,
   "id": "6a694adc-233e-417c-aa42-f2afa1caa83a",
   "metadata": {},
   "outputs": [
    {
     "name": "stdout",
     "output_type": "stream",
     "text": [
      "110\n",
      "210\n",
      "310\n"
     ]
    }
   ],
   "source": [
    "#141 다음과 같이 판매가가 저장된 리스트가 있을 때 부가세가 포함된 가격을 for 문을 사용해서 화면에 출력하라. 단 부가세는 10원으로 가정한다.\n",
    "\n",
    "리스트 = [100, 200, 300]\n",
    "for 변수 in 리스트:\n",
    "  print(변수 + 10)"
   ]
  },
  {
   "cell_type": "code",
   "execution_count": 74,
   "id": "40740154-931d-405a-8eb4-f100c0a30fdd",
   "metadata": {},
   "outputs": [
    {
     "name": "stdout",
     "output_type": "stream",
     "text": [
      "오늘의 메뉴: 김밥\n",
      "오늘의 메뉴: 라면\n",
      "오늘의 메뉴: 튀김\n"
     ]
    }
   ],
   "source": [
    "#142 for 문을 사용해서 리스트에 저장된 값을 다음과 같이 출력하라.\n",
    "\n",
    "리스트 = [\"김밥\", \"라면\", \"튀김\"]\n",
    "for 메뉴 in 리스트:\n",
    "  print(\"오늘의 메뉴: \" + 메뉴)"
   ]
  },
  {
   "cell_type": "code",
   "execution_count": 75,
   "id": "5efbe976-1783-42af-b44c-63ed6c2b7c9f",
   "metadata": {},
   "outputs": [
    {
     "name": "stdout",
     "output_type": "stream",
     "text": [
      "6\n",
      "4\n",
      "4\n"
     ]
    }
   ],
   "source": [
    "#143 리스트에 주식 종목이름이 저장돼 있다.\n",
    "\n",
    "리스트 = [\"SK하이닉스\", \"삼성전자\", \"LG전자\"]\n",
    "for 종목명 in 리스트:\n",
    "  print(len(종목명))"
   ]
  },
  {
   "cell_type": "code",
   "execution_count": 76,
   "id": "27e6132f-5ebd-4b76-9688-c388221f39dd",
   "metadata": {},
   "outputs": [
    {
     "name": "stdout",
     "output_type": "stream",
     "text": [
      "dog 3\n",
      "cat 3\n",
      "parrot 6\n"
     ]
    }
   ],
   "source": [
    "#144 리스트에는 동물이름이 문자열로 저장돼 있다.\n",
    "\n",
    "리스트 = ['dog', 'cat', 'parrot']\n",
    "for 이름 in 리스트:\n",
    "  print(이름, len(이름))"
   ]
  },
  {
   "cell_type": "code",
   "execution_count": 77,
   "id": "42f21fbc-7be9-42d4-be7f-5ae42b9885a8",
   "metadata": {},
   "outputs": [
    {
     "name": "stdout",
     "output_type": "stream",
     "text": [
      "d\n",
      "c\n",
      "p\n"
     ]
    }
   ],
   "source": [
    "#145 리스트에 동물 이름 저장돼 있다.\n",
    "\n",
    "리스트 = ['dog', 'cat', 'parrot']\n",
    "for 이름 in 리스트:\n",
    "  print(이름[0])"
   ]
  },
  {
   "cell_type": "code",
   "execution_count": 78,
   "id": "6fc72260-547c-4c14-a8d0-fb0a77429818",
   "metadata": {},
   "outputs": [
    {
     "name": "stdout",
     "output_type": "stream",
     "text": [
      "3 x 1\n",
      "3 x 2\n",
      "3 x 3\n"
     ]
    }
   ],
   "source": [
    "##146 리스트에는 세 개의 숫자가 바인딩돼 있다.\n",
    "\n",
    "리스트 = [1, 2, 3]\n",
    "for 변수 in 리스트:\n",
    "  print(\"3 x \" + str(변수))"
   ]
  },
  {
   "cell_type": "code",
   "execution_count": 79,
   "id": "75d3a7d4-5113-489b-8bd5-dd5e6c942755",
   "metadata": {},
   "outputs": [
    {
     "name": "stdout",
     "output_type": "stream",
     "text": [
      "3 x  1 = 3\n",
      "3 x  2 = 6\n",
      "3 x  3 = 9\n"
     ]
    }
   ],
   "source": [
    "##147 리스트에는 세 개의 숫자가 바인딩돼 있다.\n",
    "\n",
    "리스트 = [1, 2, 3]\n",
    "for 변수 in 리스트:\n",
    "  print(\"3 x \", 변수, \"=\", 3 * 변수)"
   ]
  },
  {
   "cell_type": "code",
   "execution_count": 80,
   "id": "a13498bf-de03-4d29-abcc-47c71df266c1",
   "metadata": {},
   "outputs": [
    {
     "name": "stdout",
     "output_type": "stream",
     "text": [
      "나\n",
      "다\n",
      "라\n"
     ]
    }
   ],
   "source": [
    "#148 리스트에는 네 개의 문자열이 바인딩돼 있다.\n",
    "\n",
    "리스트 = [\"가\", \"나\", \"다\", \"라\"]\n",
    "나다라 = 리스트[1:]\n",
    "for 변수 in 나다라:\n",
    "  print(변수)"
   ]
  },
  {
   "cell_type": "markdown",
   "id": "27d0edec-d437-4bae-92b8-c1ba7e5bfca1",
   "metadata": {},
   "source": [
    " ```\n",
    "for문을 사용하면 리스트의 크기와 상관없이 간단하게 모든 요소를 순회하면서 동일한 작업을 수행\n",
    "리스트의 여러 요소를 하나씩 처리해야 해서\n",
    "```"
   ]
  },
  {
   "cell_type": "code",
   "execution_count": 85,
   "id": "2c5b7844-6534-4248-b792-b7034f00b1ed",
   "metadata": {},
   "outputs": [
    {
     "ename": "NameError",
     "evalue": "name '가' is not defined",
     "output_type": "error",
     "traceback": [
      "\u001b[1;31m---------------------------------------------------------------------------\u001b[0m",
      "\u001b[1;31mNameError\u001b[0m                                 Traceback (most recent call last)",
      "Cell \u001b[1;32mIn[85], line 3\u001b[0m\n\u001b[0;32m      1\u001b[0m \u001b[38;5;66;03m#149 리스트에는 네 개의 문자열이 바인딩돼 있다.\u001b[39;00m\n\u001b[0;32m      2\u001b[0m 리스트 \u001b[38;5;241m=\u001b[39m [\u001b[38;5;124m\"\u001b[39m\u001b[38;5;124m가\u001b[39m\u001b[38;5;124m\"\u001b[39m, \u001b[38;5;124m\"\u001b[39m\u001b[38;5;124m나\u001b[39m\u001b[38;5;124m\"\u001b[39m, \u001b[38;5;124m\"\u001b[39m\u001b[38;5;124m다\u001b[39m\u001b[38;5;124m\"\u001b[39m, \u001b[38;5;124m\"\u001b[39m\u001b[38;5;124m라\u001b[39m\u001b[38;5;124m\"\u001b[39m]\n\u001b[1;32m----> 3\u001b[0m 가나다라 \u001b[38;5;241m=\u001b[39m [가, 다]\n\u001b[0;32m      4\u001b[0m \u001b[38;5;28;01mfor\u001b[39;00m 변수 \u001b[38;5;129;01min\u001b[39;00m 가나다라:\n\u001b[0;32m      5\u001b[0m   \u001b[38;5;28mprint\u001b[39m(변수)\n",
      "\u001b[1;31mNameError\u001b[0m: name '가' is not defined"
     ]
    }
   ],
   "source": [
    "#149 리스트에는 네 개의 문자열이 바인딩돼 있다.\n",
    "리스트 = [\"가\", \"나\", \"다\", \"라\"]\n",
    "가나다라 = [가, 다]\n",
    "for 변수 in 가나다라:\n",
    "  print(변수)"
   ]
  },
  {
   "cell_type": "code",
   "execution_count": 86,
   "id": "f1ac131a-f77c-47da-9f0f-1b3eb0b7cbea",
   "metadata": {},
   "outputs": [
    {
     "name": "stdout",
     "output_type": "stream",
     "text": [
      "가\n",
      "다\n"
     ]
    }
   ],
   "source": [
    "리스트 = [\"가\", \"나\", \"다\", \"라\"]\n",
    "for 변수 in 리스트[: :2]:\n",
    "  print(변수)"
   ]
  },
  {
   "cell_type": "code",
   "execution_count": 87,
   "id": "c17ff943-e416-49fe-b290-772bb0e1b792",
   "metadata": {},
   "outputs": [
    {
     "ename": "SyntaxError",
     "evalue": "invalid decimal literal (3232667043.py, line 4)",
     "output_type": "error",
     "traceback": [
      "\u001b[1;36m  Cell \u001b[1;32mIn[87], line 4\u001b[1;36m\u001b[0m\n\u001b[1;33m    for 변수 in 리스트[: :2.reverse]:\u001b[0m\n\u001b[1;37m                      ^\u001b[0m\n\u001b[1;31mSyntaxError\u001b[0m\u001b[1;31m:\u001b[0m invalid decimal literal\n"
     ]
    }
   ],
   "source": [
    "#150 리스트에는 네 개의 문자열이 바인딩돼 있다.\n",
    "\n",
    "리스트 = [\"가\", \"나\", \"다\", \"라\"]\n",
    "for 변수 in 리스트[: :2.reverse]:\n",
    "  print(변수)"
   ]
  },
  {
   "cell_type": "code",
   "execution_count": 88,
   "id": "1a95dfaa-b58e-4cf9-aae5-07a8077ec661",
   "metadata": {},
   "outputs": [
    {
     "name": "stdout",
     "output_type": "stream",
     "text": [
      "라\n",
      "다\n",
      "나\n",
      "가\n"
     ]
    }
   ],
   "source": [
    "리스트 = [\"가\", \"나\", \"다\", \"라\"]\n",
    "for 변수 in 리스트[: :-1]:\n",
    "  print(변수)"
   ]
  },
  {
   "cell_type": "markdown",
   "id": "1aea72e4-4013-4448-87b0-79486d3d8f6a",
   "metadata": {},
   "source": [
    "증감폭을 음수로 설정하면 끝에서 앞방향으로 값을 슬라이싱"
   ]
  },
  {
   "cell_type": "code",
   "execution_count": 90,
   "id": "afa11dae-2a9e-4f48-9e36-ec1432a154ba",
   "metadata": {},
   "outputs": [
    {
     "name": "stdout",
     "output_type": "stream",
     "text": [
      "-20\n",
      "-3\n"
     ]
    }
   ],
   "source": [
    "#151 리스트에는 네 개의 정수가 저장돼 있다.\n",
    "\n",
    "리스트 = [3, -20, -3, 44]\n",
    "for 변수 in 리스트:\n",
    "   if 변수 < 0:\n",
    "     print(변수)"
   ]
  },
  {
   "cell_type": "code",
   "execution_count": 91,
   "id": "adfe11ab-b044-46e9-8dea-6a984bf0fc16",
   "metadata": {},
   "outputs": [
    {
     "name": "stdout",
     "output_type": "stream",
     "text": [
      "3\n"
     ]
    }
   ],
   "source": [
    "#152 for문을 사용해서 3의 배수만을 출력하라.\n",
    "\n",
    "리스트 = [3, 100, 23, 44]\n",
    "for 변수 in 리스트:\n",
    "  if 변수 % 3 == 0:\n",
    "    print(변수)"
   ]
  },
  {
   "cell_type": "code",
   "execution_count": 95,
   "id": "4a97eb32-a8fa-4666-aeb9-248ff2c2a348",
   "metadata": {},
   "outputs": [
    {
     "name": "stdout",
     "output_type": "stream",
     "text": [
      "12\n",
      "18\n"
     ]
    }
   ],
   "source": [
    "#153 리스트에서 20 보다 작은 3의 배수를 출력하라\n",
    "\n",
    "리스트 = [13, 21, 12, 14, 30, 18]\n",
    "for 변수 in 리스트:\n",
    "  if (변수 % 3 == 0) and (변수 < 20):\n",
    "    print(변수)"
   ]
  },
  {
   "cell_type": "code",
   "execution_count": 98,
   "id": "bae93931-d0df-4e89-a623-1fa0f87bdcbf",
   "metadata": {},
   "outputs": [
    {
     "name": "stdout",
     "output_type": "stream",
     "text": [
      "study\n",
      "python\n",
      "language\n"
     ]
    }
   ],
   "source": [
    "#154 리스트에서 세 글자 이상의 문자를 화면에 출력하라\n",
    "\n",
    "리스트 = [\"I\", \"study\", \"python\", \"language\", \"!\"]\n",
    "for 변수 in 리스트:\n",
    "    if len(변수) >= 3:\n",
    "        print(변수)"
   ]
  },
  {
   "cell_type": "code",
   "execution_count": 99,
   "id": "239767af-3fcb-413c-80c0-c259939050d2",
   "metadata": {},
   "outputs": [
    {
     "name": "stdout",
     "output_type": "stream",
     "text": [
      "A\n",
      "D\n"
     ]
    }
   ],
   "source": [
    "#155 리스트에서 대문자만 화면에 출력하라.\n",
    "\n",
    "리스트 = [\"A\", \"b\", \"c\", \"D\"]\n",
    "for 변수 in 리스트:\n",
    "  if 변수.isupper():\n",
    "    print(변수)"
   ]
  },
  {
   "cell_type": "code",
   "execution_count": 100,
   "id": "eac96199-c6fd-44e8-8eb6-06282bd36287",
   "metadata": {},
   "outputs": [
    {
     "name": "stdout",
     "output_type": "stream",
     "text": [
      "b\n",
      "c\n"
     ]
    }
   ],
   "source": [
    "#156 리스트에서 소문자만 화면에 출력하라.\n",
    "\n",
    "리스트 = [\"A\", \"b\", \"c\", \"D\"]\n",
    "for 변수 in 리스트:\n",
    "  if 변수.isupper() == False:\n",
    "    print(변수)"
   ]
  },
  {
   "cell_type": "code",
   "execution_count": 101,
   "id": "c51b6d98-307b-41ff-9d22-b235ea9c8d9d",
   "metadata": {},
   "outputs": [
    {
     "name": "stdout",
     "output_type": "stream",
     "text": [
      "A\n",
      "B\n",
      "C\n",
      "D\n"
     ]
    }
   ],
   "source": [
    "##157이름의 첫 글자를 대문자로 변경해서 출력하라.\n",
    "\n",
    "for 변수 in 리스트:\n",
    "  print(변수[0].upper() + 변수[1:])"
   ]
  },
  {
   "cell_type": "code",
   "execution_count": 102,
   "id": "825027ca-d262-4202-8dc9-9959ea6d0be9",
   "metadata": {},
   "outputs": [
    {
     "name": "stdout",
     "output_type": "stream",
     "text": [
      "hello\n",
      "ex01\n",
      "intro\n"
     ]
    }
   ],
   "source": [
    "##158 파일 이름이 저장된 리스트에서 확장자를 제거하고 파일 이름만 화면에 출력하라. (힌트: split() 메서드)\n",
    "\n",
    "리스트 = ['hello.py', 'ex01.py', 'intro.hwp']\n",
    "for 변수 in 리스트:\n",
    "  split = 변수.split(\".\")\n",
    "  print(split[0])  "
   ]
  },
  {
   "cell_type": "code",
   "execution_count": 103,
   "id": "85a51d10-e1a4-4ef0-93ea-5ee4745d8e8a",
   "metadata": {},
   "outputs": [
    {
     "name": "stdout",
     "output_type": "stream",
     "text": [
      "intra.h\n",
      "define.h\n"
     ]
    }
   ],
   "source": [
    "#159 파일 이름이 저장된 리스트에서 확장자가 .h인 파일 이름을 출력하라.\n",
    "\n",
    "리스트 = ['intra.h', 'intra.c', 'define.h', 'run.py']\n",
    "for 변수 in 리스트:\n",
    "  split = 변수.split(\".\")\n",
    "  if split[1] == \"h\":\n",
    "    print(변수)"
   ]
  },
  {
   "cell_type": "markdown",
   "id": "0d10b615-13b0-4dad-83cf-393854c545e6",
   "metadata": {},
   "source": [
    "split() 메서드로 문자열을 분할"
   ]
  },
  {
   "cell_type": "code",
   "execution_count": 107,
   "id": "1245ff4b-9763-4de8-80f7-5b3f35981fe0",
   "metadata": {},
   "outputs": [
    {
     "name": "stdout",
     "output_type": "stream",
     "text": [
      "intra.h\n",
      "intra.c\n",
      "define.h\n"
     ]
    }
   ],
   "source": [
    "#160 파일 이름이 저장된 리스트에서 확장자가 .h나 .c인 파일을 화면에 출력하라.\n",
    "\n",
    "리스트 = ['intra.h', 'intra.c', 'define.h', 'run.py']\n",
    "for 변수 in 리스트:\n",
    "  split = 변수.split(\".\")\n",
    "  if (split[1] == \"h\") or (split[1] ==\"c\"):\n",
    "    print(변수)"
   ]
  },
  {
   "cell_type": "markdown",
   "id": "9d9ef928-8314-457b-a8e1-27f475602554",
   "metadata": {},
   "source": [
    "or 연산자 잊지 않기"
   ]
  },
  {
   "cell_type": "code",
   "execution_count": null,
   "id": "bf6274c5-e58d-462f-bc70-eea3dce1b3ae",
   "metadata": {},
   "outputs": [],
   "source": []
  },
  {
   "cell_type": "code",
   "execution_count": null,
   "id": "8783954a-eff0-4725-9d68-baa41219680a",
   "metadata": {},
   "outputs": [],
   "source": []
  },
  {
   "cell_type": "code",
   "execution_count": null,
   "id": "922f2872-ed02-4d98-bfb0-4f1d0c8f5b98",
   "metadata": {},
   "outputs": [],
   "source": []
  },
  {
   "cell_type": "code",
   "execution_count": null,
   "id": "09bbbd5a-0e94-4e1c-857a-9af508e5d440",
   "metadata": {},
   "outputs": [],
   "source": []
  },
  {
   "cell_type": "code",
   "execution_count": null,
   "id": "9103438a-2c76-4e50-8db0-f2840f5ef8b9",
   "metadata": {},
   "outputs": [],
   "source": []
  },
  {
   "cell_type": "code",
   "execution_count": null,
   "id": "df62ab46-e426-4e8f-a92c-401017f2962a",
   "metadata": {},
   "outputs": [],
   "source": []
  },
  {
   "cell_type": "code",
   "execution_count": null,
   "id": "ac07180d-5cae-455f-893d-c0861ef54597",
   "metadata": {},
   "outputs": [],
   "source": []
  },
  {
   "cell_type": "code",
   "execution_count": null,
   "id": "39944676-bf90-41a1-9fc3-0926783a5869",
   "metadata": {},
   "outputs": [],
   "source": []
  },
  {
   "cell_type": "code",
   "execution_count": null,
   "id": "f5c330d5-518e-4a9c-ac0a-53f91bdd64c6",
   "metadata": {},
   "outputs": [],
   "source": []
  },
  {
   "cell_type": "code",
   "execution_count": null,
   "id": "816972da-c2b2-49bb-9558-1d498e1cf66b",
   "metadata": {},
   "outputs": [],
   "source": []
  }
 ],
 "metadata": {
  "kernelspec": {
   "display_name": "Python 3 (ipykernel)",
   "language": "python",
   "name": "python3"
  },
  "language_info": {
   "codemirror_mode": {
    "name": "ipython",
    "version": 3
   },
   "file_extension": ".py",
   "mimetype": "text/x-python",
   "name": "python",
   "nbconvert_exporter": "python",
   "pygments_lexer": "ipython3",
   "version": "3.12.4"
  }
 },
 "nbformat": 4,
 "nbformat_minor": 5
}
