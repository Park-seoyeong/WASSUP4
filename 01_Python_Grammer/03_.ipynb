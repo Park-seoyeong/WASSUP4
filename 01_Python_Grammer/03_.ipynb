{
 "cells": [
  {
   "cell_type": "markdown",
   "id": "d95bfed1-6463-46bb-be64-ffd65f2fdcc9",
   "metadata": {},
   "source": [
    "## 1. 전화번호 프로그램 만들기\n",
    "```\n",
    "- 홍길동 010-123-456.\n",
    "- 기능1: 연락처 추가\n",
    "- 기능2: 연락처 전체 보기\n",
    "- 기능3: 검색, 이름을 입력받아서 전화번호 조회\n",
    "- 기능4: 수정, 이름을 입력받아서 전화번호 입력 수정\n",
    "- 기능5: 삭제, 이름 입력받아서 삭제\n",
    "- 기능6: 프로그램 종료\n",
    "```"
   ]
  },
  {
   "cell_type": "markdown",
   "id": "3d2faadc-b37a-4df8-b25b-f1a3edc8cf3d",
   "metadata": {},
   "source": [
    "## 설계\n",
    "1. 입출력 정의: 문자열, 딕셔너리 k:v\n",
    "2. 인터페이스: input(), 프롬프트\n",
    "3. 구조: while 반복문, 6개 기능을 구현 -> if 분기문\n",
    "4. 기능 구현 + 인터페이스 정책\n",
    "- 1번 연락처 추가: dict[key] = value\n",
    "- 2번 연락처 전체 보기: print(dict)\n",
    "- 3번 연락처 검색: dict[key]\n",
    "- 4번 연락처 수정: dict[key] = value\n",
    "- 5번 연락처 삭제: del\n",
    "- 6번 종료: break 정책\n"
   ]
  },
  {
   "cell_type": "code",
   "execution_count": 16,
   "id": "452f2d69-05f6-46a6-a2ff-37b647bce0cd",
   "metadata": {},
   "outputs": [
    {
     "name": "stdout",
     "output_type": "stream",
     "text": [
      "-----------전화번호부 프로그램-----------\n",
      "1. 추가  2. 조회  3. 검색  4. 수정  5. 삭제  9.종료\n"
     ]
    },
    {
     "name": "stdin",
     "output_type": "stream",
     "text": [
      "메뉴를 선택해주세요. (숫자 only) :  3\n"
     ]
    },
    {
     "ename": "NameError",
     "evalue": "name 'menu' is not defined",
     "output_type": "error",
     "traceback": [
      "\u001b[1;31m---------------------------------------------------------------------------\u001b[0m",
      "\u001b[1;31mNameError\u001b[0m                                 Traceback (most recent call last)",
      "Cell \u001b[1;32mIn[16], line 8\u001b[0m\n\u001b[0;32m      5\u001b[0m \u001b[38;5;28mprint\u001b[39m(\u001b[38;5;124m'\u001b[39m\u001b[38;5;124m1. 추가  2. 조회  3. 검색  4. 수정  5. 삭제  9.종료\u001b[39m\u001b[38;5;124m'\u001b[39m)\n\u001b[0;32m      6\u001b[0m \u001b[38;5;28minput\u001b[39m(\u001b[38;5;124m'\u001b[39m\u001b[38;5;124m메뉴를 선택해주세요. (숫자 only) : \u001b[39m\u001b[38;5;124m'\u001b[39m)\n\u001b[1;32m----> 8\u001b[0m \u001b[38;5;28;01mif\u001b[39;00m menu \u001b[38;5;241m==\u001b[39m \u001b[38;5;241m1\u001b[39m: \u001b[38;5;66;03m#연락처 추가\u001b[39;00m\n\u001b[0;32m      9\u001b[0m     \u001b[38;5;28mprint\u001b[39m(\u001b[38;5;124m'\u001b[39m\u001b[38;5;124m연락처를 추가합니다.\u001b[39m\u001b[38;5;124m'\u001b[39m)\n\u001b[0;32m     10\u001b[0m     new_name \u001b[38;5;241m=\u001b[39m \u001b[38;5;28minput\u001b[39m(\u001b[38;5;124m'\u001b[39m\u001b[38;5;124m이름:  \u001b[39m\u001b[38;5;124m'\u001b[39m)\n",
      "\u001b[1;31mNameError\u001b[0m: name 'menu' is not defined"
     ]
    }
   ],
   "source": [
    "contact = {} #초기화 작업\n",
    "\n",
    "while True:\n",
    "    print(\"-----------전화번호부 프로그램-----------\")\n",
    "    print('1. 추가  2. 조회  3. 검색  4. 수정  5. 삭제  9.종료')\n",
    "    input('메뉴를 선택해주세요. (숫자 only) : ')\n",
    "\n",
    "    if menu == 1: #연락처 추가\n",
    "        print('연락처를 추가합니다.')\n",
    "        new_name = input('이름:  ')\n",
    "        new_tel = input('전화번호:  ')\n",
    "        print(new_name, new_tel)\n",
    "       #  contact[new_name] = new_tel\n",
    "        contact.setdefault(new_name, new_tel)\n",
    "        \n",
    "    elif menu == 2: #연락처 조회\n",
    "        print('연락처를 조회합니다.')\n",
    "        print(contact)\n",
    "\n",
    "    elif menu == 3: #연락처 검색\n",
    "        print('연락처를 검색합니다.')\n",
    "        search_name = input('검색 이름: ')\n",
    "        # print(contace[search_name]) get 함수 없을 경우 에러안남\n",
    "        contact.get(search_name, '없는 이름입니다.')\n",
    "\n",
    "    elif menu == 4: #연락처 수정\n",
    "        print('연락처를 수정합니다.')\n",
    "        mod_name = input('수정 이름 : ')\n",
    "\n",
    "        if mod_name in contact:\n",
    "            mode_tel = input('새 전화번호: ')\n",
    "            contace[mod_name] = mod_tel\n",
    "\n",
    "    elif menu == 5: #연락처 삭제\n",
    "        print('연락처를 삭제합니다.')\n",
    "\n",
    "    elif menu == 9: #연락처 종료\n",
    "        print('연락처를 종료합니다.')\n",
    "        break\n",
    "\n",
    "    else :\n",
    "        print('잘못된 입력입니다.')\n",
    "\n"
   ]
  },
  {
   "cell_type": "markdown",
   "id": "7d87df9d-fd6e-43a5-a535-cd429ff263f6",
   "metadata": {},
   "source": [
    "종료 같은 메뉴는 실수로 동작할 일 없게 멀리~~"
   ]
  },
  {
   "cell_type": "code",
   "execution_count": null,
   "id": "c138bca5-7f2f-4467-a19d-c6e88a0f9322",
   "metadata": {},
   "outputs": [],
   "source": []
  },
  {
   "cell_type": "code",
   "execution_count": null,
   "id": "7869f29f-ce39-49df-b829-8c8aa574bc38",
   "metadata": {},
   "outputs": [],
   "source": []
  }
 ],
 "metadata": {
  "kernelspec": {
   "display_name": "Python 3 (ipykernel)",
   "language": "python",
   "name": "python3"
  },
  "language_info": {
   "codemirror_mode": {
    "name": "ipython",
    "version": 3
   },
   "file_extension": ".py",
   "mimetype": "text/x-python",
   "name": "python",
   "nbconvert_exporter": "python",
   "pygments_lexer": "ipython3",
   "version": "3.12.4"
  }
 },
 "nbformat": 4,
 "nbformat_minor": 5
}
