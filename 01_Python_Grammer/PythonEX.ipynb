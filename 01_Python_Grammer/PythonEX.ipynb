{
 "cells": [
  {
   "cell_type": "markdown",
   "id": "9bb30367-29d2-4e35-8e3a-cc8c3ee1c9da",
   "metadata": {},
   "source": [
    "## Numpy\n",
    "```\n",
    "Numerical Python\n",
    "고성능 수치 계산을 위한 라이브러리\n",
    "백터나 행렬 연산에 편리한 기능 제공\n",
    "모든 원소는 같은 자료형만 가능\n",
    "```"
   ]
  },
  {
   "cell_type": "code",
   "execution_count": 10,
   "id": "8e7cb311-ac89-46ee-86fa-0decf4b072a0",
   "metadata": {},
   "outputs": [
    {
     "name": "stdout",
     "output_type": "stream",
     "text": [
      "[ 0  1  2  3  4  5  6  7  8  9 10 11 12 13 14]\n",
      "[[ 0  1  2  3  4]\n",
      " [ 5  6  7  8  9]\n",
      " [10 11 12 13 14]]\n",
      "<class 'numpy.ndarray'>\n",
      "(3, 5)\n",
      "int32\n",
      "2\n"
     ]
    }
   ],
   "source": [
    "import numpy as np\n",
    "a = np.arange( 15 )\n",
    "print( a )\n",
    "a = a.reshape( 3, 5 )\n",
    "print ( a )\n",
    "print ( type ( a ) )\n",
    "print ( a.shape )\n",
    "print ( a.dtype )\n",
    "print ( a.ndim )\n",
    "\n",
    "# print ( dir(np) )"
   ]
  },
  {
   "cell_type": "markdown",
   "id": "8c64b204-a4b1-4618-8a67-8d568851ccc6",
   "metadata": {},
   "source": [
    "```\n",
    "객체 = class\n",
    "print ( type ( a ) ) = type 확인 가능\n",
    "ctrl + / 주석처리 가능\n",
    "```"
   ]
  },
  {
   "cell_type": "code",
   "execution_count": 11,
   "id": "05e540a5-94a8-440b-bdfe-192a7ca9beec",
   "metadata": {},
   "outputs": [
    {
     "name": "stdout",
     "output_type": "stream",
     "text": [
      "[[ 0  1  2  3  4]\n",
      " [ 5  6  7  8  9]\n",
      " [10 11 12 13 14]]\n"
     ]
    }
   ],
   "source": [
    "print ( a )"
   ]
  },
  {
   "cell_type": "code",
   "execution_count": null,
   "id": "a40e4dee-02b9-411d-98ec-0566bd39dcf5",
   "metadata": {},
   "outputs": [],
   "source": []
  },
  {
   "cell_type": "code",
   "execution_count": null,
   "id": "b729b6ea-7c09-4d05-81eb-818f4dedf44c",
   "metadata": {},
   "outputs": [],
   "source": []
  },
  {
   "cell_type": "code",
   "execution_count": null,
   "id": "b15340ab-8fcb-43ab-82d8-38ece71f74ed",
   "metadata": {},
   "outputs": [],
   "source": []
  },
  {
   "cell_type": "code",
   "execution_count": 3,
   "id": "8130dfb4-06a1-483f-930a-0374aab519ca",
   "metadata": {},
   "outputs": [
    {
     "ename": "NameError",
     "evalue": "name 'np' is not defined",
     "output_type": "error",
     "traceback": [
      "\u001b[1;31m---------------------------------------------------------------------------\u001b[0m",
      "\u001b[1;31mNameError\u001b[0m                                 Traceback (most recent call last)",
      "Cell \u001b[1;32mIn[3], line 1\u001b[0m\n\u001b[1;32m----> 1\u001b[0m f \u001b[38;5;241m=\u001b[39m np\u001b[38;5;241m.\u001b[39marray( [\u001b[38;5;241m0\u001b[39m, \u001b[38;5;241m1\u001b[39m], [\u001b[38;5;241m1\u001b[39m, \u001b[38;5;241m1\u001b[39m] )\n\u001b[0;32m      2\u001b[0m g \u001b[38;5;241m=\u001b[39m np\u001b[38;5;241m.\u001b[39marray( [\u001b[38;5;241m2\u001b[39m, \u001b[38;5;241m0\u001b[39m], [\u001b[38;5;241m3\u001b[39m, \u001b[38;5;241m4\u001b[39m] )\n\u001b[0;32m      3\u001b[0m \u001b[38;5;28mprint\u001b[39m ( f \u001b[38;5;241m*\u001b[39m g )                   \u001b[38;5;66;03m# 행렬곱\u001b[39;00m\n",
      "\u001b[1;31mNameError\u001b[0m: name 'np' is not defined"
     ]
    }
   ],
   "source": [
    "f = np.array( [0, 1], [1, 1] )\n",
    "g = np.array( [2, 0], [3, 4] )\n",
    "print ( f * g )                   # 행렬곱\n",
    "print ( f @ g )\n",
    "print ( np.dot (f, g) )\n",
    "print ( f.dot (f, g) )"
   ]
  },
  {
   "cell_type": "code",
   "execution_count": 8,
   "id": "091916d5-96ee-4e5a-9497-7782f0417034",
   "metadata": {},
   "outputs": [
    {
     "ename": "NameError",
     "evalue": "name 'np' is not defined",
     "output_type": "error",
     "traceback": [
      "\u001b[1;31m---------------------------------------------------------------------------\u001b[0m",
      "\u001b[1;31mNameError\u001b[0m                                 Traceback (most recent call last)",
      "Cell \u001b[1;32mIn[8], line 1\u001b[0m\n\u001b[1;32m----> 1\u001b[0m h \u001b[38;5;241m=\u001b[39m np\u001b[38;5;241m.\u001b[39mzeros (\u001b[38;5;241m10\u001b[39m)\n\u001b[0;32m      2\u001b[0m \u001b[38;5;28mprint\u001b[39m(h)\n\u001b[0;32m      3\u001b[0m \u001b[38;5;66;03m# i = np.zeros (5, 5) 보통 행과 열의 조합으로 짜는데 zeros는 튜플로 들어가야 함\u001b[39;00m\n",
      "\u001b[1;31mNameError\u001b[0m: name 'np' is not defined"
     ]
    }
   ],
   "source": [
    "h = np.zeros (10)\n",
    "print(h)\n",
    "# i = np.zeros (5, 5) 보통 행과 열의 조합으로 짜는데 zeros는 튜플로 들어가야 함\n",
    "i = np.zeros((5,5))\n",
    "print = i\n",
    "j = np.ones(10) #ones는 모두 1로 채움\n",
    "print = (j) \n",
    "\n",
    "# tab / shift + tap 단락 들여쓰기 지우기\n",
    "\n",
    "# np.random.random    0~1 사이의 난수 발생\n",
    "# np.random.randint   균일 분포의 정수 난수 발생\n",
    "# np.random.rand      0~1 사이의 균일 분포 난수 matrix array 생성\n",
    "# np.random.randn     가우시안 표준 정규 분포 난수 matrix array 생성\n",
    "# np.random.nomral    평균, 표준편차, sample 개수\n",
    "\n",
    "k = np.random.random(10) * 100\n",
    "print(type(k))\n",
    "print(k)\n",
    "\n",
    "print(np.random.randint(10))\n",
    "print(np.random.rand(5, 2))"
   ]
  },
  {
   "cell_type": "code",
   "execution_count": null,
   "id": "f6754e64-13ab-4ab9-b212-489fb0d083f6",
   "metadata": {},
   "outputs": [],
   "source": []
  },
  {
   "cell_type": "code",
   "execution_count": null,
   "id": "ef714db3-39cb-4cba-97eb-79bd198392f3",
   "metadata": {},
   "outputs": [],
   "source": []
  },
  {
   "cell_type": "code",
   "execution_count": null,
   "id": "9298620b-a8d1-4715-8ce0-4119de92c36d",
   "metadata": {},
   "outputs": [],
   "source": []
  },
  {
   "cell_type": "code",
   "execution_count": null,
   "id": "869781b4-ab69-415c-a41e-5508eb3a096c",
   "metadata": {},
   "outputs": [],
   "source": []
  }
 ],
 "metadata": {
  "kernelspec": {
   "display_name": "Python 3 (ipykernel)",
   "language": "python",
   "name": "python3"
  },
  "language_info": {
   "codemirror_mode": {
    "name": "ipython",
    "version": 3
   },
   "file_extension": ".py",
   "mimetype": "text/x-python",
   "name": "python",
   "nbconvert_exporter": "python",
   "pygments_lexer": "ipython3",
   "version": "3.12.4"
  }
 },
 "nbformat": 4,
 "nbformat_minor": 5
}
